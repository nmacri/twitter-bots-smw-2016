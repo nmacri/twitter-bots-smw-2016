{
 "cells": [
  {
   "cell_type": "markdown",
   "metadata": {},
   "source": [
    "Setting Up a Twitter Bot in 5 Easy Steps\n",
    "====\n",
    "\n",
    "1. Get our project directory organized\n",
    "2. Make a Twitter app\n",
    "3. Make a Twitter account\n",
    "4. OAuth secret handshake\n",
    "5. Store our secrets somewhere safe\n",
    "\n",
    "### 1. First things first, let's get our project directory organized\n",
    "\n",
    "if you're running this locally check out [README.md](https://github.com/nmacri/twitter-bots-smw-2016/blob/master/README.md) otherwise skip to the next section..."
   ]
  },
  {
   "cell_type": "code",
   "execution_count": null,
   "metadata": {
    "collapsed": false
   },
   "outputs": [],
   "source": [
    "# cd into your project directory in my case this is, but yours may be different\n",
    "%cd ~/twitter-bots-smw-2016/"
   ]
  },
  {
   "cell_type": "code",
   "execution_count": null,
   "metadata": {
    "collapsed": false
   },
   "outputs": [],
   "source": [
    "# install dependencies if you haven't already :)\n",
    "!pip install -r requirements.txt"
   ]
  },
  {
   "cell_type": "code",
   "execution_count": null,
   "metadata": {
    "collapsed": false,
    "slideshow": {
     "slide_type": "-"
    }
   },
   "outputs": [],
   "source": [
    "# import your libraries \n",
    "import twitter\n",
    "import json\n",
    "import webbrowser\n",
    "from rauth import OAuth1Service"
   ]
  },
  {
   "cell_type": "markdown",
   "metadata": {},
   "source": [
    "### 2. Good, that went smoothly, now let's go deal with twitter\n",
    "\n",
    "To run our bot we'll need to use a protocol called [OAuth](https://www.wikiwand.com/en/OAuth) which sounds a little bit daunting, but really it's just a kind of secret handshake that we agree on with twitter so they know that we're cool.\n",
    "\n",
    "![](https://upload.wikimedia.org/wikipedia/commons/thumb/d/d2/Oauth_logo.svg/239px-Oauth_logo.svg.png) ![](https://49.media.tumblr.com/tumblr_mbbl0uMR8t1ri61zco1_500.gif)"
   ]
  },
  {
   "cell_type": "markdown",
   "metadata": {},
   "source": [
    "First thing you'll need to do is make an \"app\".  It's pretty straightforward process that you can go through here https://apps.twitter.com/.  \n",
    "\n",
    "This is what my settings looked like:\n",
    "\n",
    "![](http://cl.ly/2o3J0R103s2N/Image%202016-02-20%20at%208.35.10%20PM.png)\n",
    "\n",
    "In the end you'll get two tokens (`YOUR_APP_KEY` and `YOUR_APP_SECRET`) that you should store somewhere safe.  I'm storing mine in a file called `secrets.json` there is an example (`secrets_example.json`) in the project root directory that you can use as a template.  It looks like this:"
   ]
  },
  {
   "cell_type": "code",
   "execution_count": null,
   "metadata": {
    "collapsed": false
   },
   "outputs": [],
   "source": [
    "f = open('secrets_example.json','rb')\n",
    "print \"\".join(f.readlines())\n",
    "f.close()"
   ]
  },
  {
   "cell_type": "markdown",
   "metadata": {},
   "source": [
    "### 3. Make your Bot's Account!\n",
    "\n",
    "[Twitter's onboarding process](https://twitter.com/signup) isn't really optimized for the bot use-case, but once you get to the welcome screen you'll be logged in and ready for the next step (iow, you can keep the \"all the stuff you love\" to yourself).\n",
    "\n",
    "<br>\n",
    "<br>\n",
    "<div class=\"container\" style=\"width: 80%;\">\n",
    " <div class=\"theme-table-image col-sm-5\">\n",
    "   <img src=\"http://cl.ly/2l2t380q393G/Image%202016-02-20%20at%209.06.21%20PM.png\">\n",
    " </div>\n",
    " <div class=\"col-sm-2\">\n",
    " </div>\n",
    " <div class=\"theme-table-image col-sm-5\">\n",
    "   <img src=\"http://cl.ly/050O2M362Q1B/Image%202016-02-20%20at%209.07.35%20PM.png\">\n",
    " </div>\n",
    "</div>\n",
    "\n",
    "\n"
   ]
  },
  {
   "cell_type": "markdown",
   "metadata": {},
   "source": [
    "### 4. Final OAuth step: Secret handshake!"
   ]
  },
  {
   "cell_type": "markdown",
   "metadata": {},
   "source": [
    "Load in your fresh new file of secrets (`secrets.json`)"
   ]
  },
  {
   "cell_type": "code",
   "execution_count": null,
   "metadata": {
    "collapsed": false,
    "slideshow": {
     "slide_type": "skip"
    }
   },
   "outputs": [],
   "source": [
    "f = open('secrets.json','rb')\n",
    "secrets = json.load(f)\n",
    "f.close()"
   ]
  },
  {
   "cell_type": "markdown",
   "metadata": {},
   "source": [
    "Use a library that knows how to implement OAuth1 (trust me, it's not fun to figure out by scratch).  I'm using [rauth](https://rauth.readthedocs.org/en/latest/) but there are [tons more](https://dev.twitter.com/oauth/overview/single-user) out there."
   ]
  },
  {
   "cell_type": "code",
   "execution_count": null,
   "metadata": {
    "collapsed": false
   },
   "outputs": [],
   "source": [
    "tw_oauth_service = OAuth1Service(\n",
    "    consumer_key=secrets['twitter']['app']['consumer_key'],\n",
    "    consumer_secret=secrets['twitter']['app']['consumer_secret'],\n",
    "    name='twitter',\n",
    "    access_token_url='https://api.twitter.com/oauth/access_token',\n",
    "    authorize_url='https://api.twitter.com/oauth/authorize',\n",
    "    request_token_url='https://api.twitter.com/oauth/request_token',\n",
    "    base_url='https://api.twitter.com/1.1/')"
   ]
  },
  {
   "cell_type": "code",
   "execution_count": null,
   "metadata": {
    "collapsed": false
   },
   "outputs": [],
   "source": [
    "request_token, request_token_secret = tw_oauth_service.get_request_token()\n",
    "url = tw_oauth_service.get_authorize_url(request_token=request_token)\n",
    "webbrowser.open_new(url)"
   ]
  },
  {
   "cell_type": "markdown",
   "metadata": {},
   "source": [
    "The cells above will open a permissions dialog for you in a new tab:\n",
    "\n",
    "![](http://cl.ly/2I2L2m1L2e1K/Image%202016-02-20%20at%209.29.46%20PM.png)\n",
    "\n",
    "**If you're cool w/ it, authorize your app** against your bot user you will then be redirected to the callback url you specified when you set up your app. I get redirected to something that looks like this\n",
    "\n",
    "`http://127.0.0.1:9999/?oauth_token=JvutuAAAAAAAkfBmbVABUwFD6pI&oauth_verifier=pPktmz2xoFtjysR4DHSlFKcdahuUG`\n",
    "\n",
    "**It will like an error, but it's not!**,  all you need to do is parse out two parameters from the url they bounce you back to: the `oauth_token` and the `oauth_verifier`.  \n",
    "\n",
    "Only one more step to go. You are so brave! "
   ]
  },
  {
   "cell_type": "code",
   "execution_count": null,
   "metadata": {
    "collapsed": false
   },
   "outputs": [],
   "source": [
    "# Once you go through the flow and land on an error page http://127.0.0.1:9999 something\n",
    "# enter your token and verifier below like so.  The \n",
    "# The example below (which won't work until you update the parameters) is from the following url: \n",
    "# http://127.0.0.1:9999/?oauth_token=JvutuAAAAAAAkfBmbVABUwFD6pI&oauth_verifier=pPktmz2xoFtjysR4DHSlFKcdahuUGciE\n",
    "\n",
    "oauth_token='JvutuAAAAAAAkfBmbVABUwFD6pI'\n",
    "oauth_verifier='pPktmz2xoFtjysR4DHSlFKcdahuUGciE'\n",
    "\n",
    "session = tw_oauth_service.get_auth_session(request_token,\n",
    "                                   request_token_secret,\n",
    "                                   method='POST',\n",
    "                                   data={'oauth_verifier': oauth_verifier})"
   ]
  },
  {
   "cell_type": "markdown",
   "metadata": {},
   "source": [
    "### 5. Store your secrets somewhere safe"
   ]
  },
  {
   "cell_type": "code",
   "execution_count": null,
   "metadata": {
    "collapsed": true
   },
   "outputs": [],
   "source": [
    "# Copy this guy into your secrets file \n",
    "\n",
    "#           {\n",
    "#            \"user_id\": \"701177805317472256\",\n",
    "#            \"screen_name\": \"SmwKanye\",\n",
    "# HERE ----> \"token_key\": \"YOUR_TOKEN_KEY\",\n",
    "#            \"token_secret\": \"YOUR_TOKEN_SECRET\"\n",
    "#           },\n",
    "session.access_token"
   ]
  },
  {
   "cell_type": "code",
   "execution_count": null,
   "metadata": {
    "collapsed": false
   },
   "outputs": [],
   "source": [
    "# Copy this guy into your secrets file \n",
    "\n",
    "#           {\n",
    "#            \"user_id\": \"701177805317472256\",\n",
    "#            \"screen_name\": \"SmwKanye\",\n",
    "#            \"token_key\": \"YOUR_TOKEN_KEY\",\n",
    "# HERE ----> \"token_secret\": \"YOUR_TOKEN_SECRET\"\n",
    "#           },\n",
    "session.access_token_secret"
   ]
  },
  {
   "cell_type": "markdown",
   "metadata": {},
   "source": [
    "Awesome, now we have our user access tokens and secret.  Store them in `secrets.json` and test below to see if they work.  You don't really need 3 test accounts, so if you don't want to repeat the process just keep \"production\".\n",
    "\n",
    "Finally, test to see that your secrets are good..."
   ]
  },
  {
   "cell_type": "code",
   "execution_count": null,
   "metadata": {
    "collapsed": false
   },
   "outputs": [],
   "source": [
    "f = open('secrets.json','rb')\n",
    "secrets = json.load(f)\n",
    "f.close()\n",
    "\n",
    "tw_api_client = twitter.Api(consumer_key = secrets['twitter']['app']['consumer_key'],\n",
    "            consumer_secret = secrets['twitter']['app']['consumer_secret'],\n",
    "            access_token_key = secrets['twitter']['accounts']['production']['token_key'],\n",
    "            access_token_secret = secrets['twitter']['accounts']['production']['token_secret'],\n",
    "           )"
   ]
  },
  {
   "cell_type": "code",
   "execution_count": null,
   "metadata": {
    "collapsed": false
   },
   "outputs": [],
   "source": [
    "tw_api_client.GetUser(screen_name='SmwKanye').AsDict()"
   ]
  },
  {
   "cell_type": "code",
   "execution_count": null,
   "metadata": {
    "collapsed": true
   },
   "outputs": [],
   "source": [
    "tw_api_client."
   ]
  },
  {
   "cell_type": "markdown",
   "metadata": {},
   "source": [
    "![High Five](http://media3.giphy.com/media/IxJMT1ugyBMdy/giphy.gif)"
   ]
  }
 ],
 "metadata": {
  "kernelspec": {
   "display_name": "Python 2",
   "language": "python",
   "name": "python2"
  },
  "language_info": {
   "codemirror_mode": {
    "name": "ipython",
    "version": 2
   },
   "file_extension": ".py",
   "mimetype": "text/x-python",
   "name": "python",
   "nbconvert_exporter": "python",
   "pygments_lexer": "ipython2",
   "version": "2.7.9"
  }
 },
 "nbformat": 4,
 "nbformat_minor": 0
}
