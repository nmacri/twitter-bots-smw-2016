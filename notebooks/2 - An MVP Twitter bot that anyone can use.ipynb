{
 "cells": [
  {
   "cell_type": "code",
   "execution_count": 5,
   "metadata": {
    "collapsed": false
   },
   "outputs": [
    {
     "name": "stdout",
     "output_type": "stream",
     "text": [
      "/Users/nickmacri/twitter-bots-smw-2016\n"
     ]
    }
   ],
   "source": [
    "%cd ~/twitter-bots-smw-2016/"
   ]
  },
  {
   "cell_type": "code",
   "execution_count": 6,
   "metadata": {
    "collapsed": false
   },
   "outputs": [],
   "source": [
    "from bot import TwitterBot"
   ]
  },
  {
   "cell_type": "markdown",
   "metadata": {},
   "source": [
    "An MVP Twitter bot that anyone can use\n",
    "===="
   ]
  },
  {
   "cell_type": "code",
   "execution_count": 13,
   "metadata": {
    "collapsed": false
   },
   "outputs": [],
   "source": [
    "bot1 = TwitterBot('test1')\n",
    "bot2 = TwitterBot('test2')\n",
    "bot3 = TwitterBot('test3')\n",
    "\n",
    "kanye = TwitterBot('production')"
   ]
  },
  {
   "cell_type": "code",
   "execution_count": 19,
   "metadata": {
    "collapsed": false
   },
   "outputs": [
    {
     "data": {
      "text/plain": [
       "<twitter.status.Status at 0x110ade950>"
      ]
     },
     "execution_count": 19,
     "metadata": {},
     "output_type": "execute_result"
    }
   ],
   "source": [
    "kanye.tweet('Attendees will learn to like small dogs and cigarettes')"
   ]
  },
  {
   "cell_type": "code",
   "execution_count": 9,
   "metadata": {
    "collapsed": false
   },
   "outputs": [],
   "source": [
    "# they can talk between the two of them\n",
    "tweet = bot3.tweet(\"Testing 1, 2, 3, 4, 5, 6, 7, 8, 9, 10, 11...\")\n",
    "reply_tweet = bot1.tweet(\"I can hear you!\", in_reply_to=tweet)"
   ]
  },
  {
   "cell_type": "code",
   "execution_count": 10,
   "metadata": {
    "collapsed": false
   },
   "outputs": [
    {
     "data": {
      "text/plain": [
       "True"
      ]
     },
     "execution_count": 10,
     "metadata": {},
     "output_type": "execute_result"
    }
   ],
   "source": [
    "# they remember their conversations\n",
    "bot1.has_replied(tweet)"
   ]
  },
  {
   "cell_type": "code",
   "execution_count": 11,
   "metadata": {
    "collapsed": false
   },
   "outputs": [
    {
     "data": {
      "text/plain": [
       "False"
      ]
     },
     "execution_count": 11,
     "metadata": {},
     "output_type": "execute_result"
    }
   ],
   "source": [
    "bot3.has_replied(reply_tweet)"
   ]
  },
  {
   "cell_type": "code",
   "execution_count": 4,
   "metadata": {
    "collapsed": true
   },
   "outputs": [],
   "source": [
    "# or they can have a conversation \n",
    "tweet = bot1.tweet(\"Is there anybody out there?\")\n",
    "reply_tweet1 = bot2.tweet(\"Mr. Watson--come here--I want to see you.\", in_reply_to=tweet)\n",
    "reply_tweet2 = bot3.tweet(\"wait, I thought I was your one and only. who is @%s?\" % bot1.user.screen_name, \n",
    "                          in_reply_to=reply_tweet1)"
   ]
  },
  {
   "cell_type": "code",
   "execution_count": 3,
   "metadata": {
    "collapsed": false
   },
   "outputs": [
    {
     "data": {
      "text/plain": [
       "<twitter.user.User at 0x10b8a6a50>"
      ]
     },
     "execution_count": 3,
     "metadata": {},
     "output_type": "execute_result"
    }
   ],
   "source": [
    "# they should all be friends\n",
    "bot1._api_client.CreateFriendship(user_id=bot3.user.id)\n",
    "bot1._api_client.CreateFriendship(user_id=bot2.user.id)\n",
    "bot2._api_client.CreateFriendship(user_id=bot3.user.id)\n",
    "bot2._api_client.CreateFriendship(user_id=bot1.user.id)\n",
    "bot3._api_client.CreateFriendship(user_id=bot2.user.id)\n",
    "bot3._api_client.CreateFriendship(user_id=bot1.user.id)"
   ]
  },
  {
   "cell_type": "code",
   "execution_count": 6,
   "metadata": {
    "collapsed": false
   },
   "outputs": [
    {
     "data": {
      "text/plain": [
       "<twitter.status.Status at 0x10b8bd550>"
      ]
     },
     "execution_count": 6,
     "metadata": {},
     "output_type": "execute_result"
    }
   ],
   "source": [
    "# and they should all like eachother's posts, why not?\n",
    "bot1._api_client.CreateFavorite(status=reply_tweet1)\n",
    "bot1._api_client.CreateFavorite(status=reply_tweet2)\n",
    "\n",
    "bot2._api_client.CreateFavorite(status=tweet)\n",
    "bot2._api_client.CreateFavorite(status=reply_tweet2)\n",
    "# except maybe bot 3 he seems a bit wary of bot 1"
   ]
  }
 ],
 "metadata": {
  "kernelspec": {
   "display_name": "Python 2",
   "language": "python",
   "name": "python2"
  },
  "language_info": {
   "codemirror_mode": {
    "name": "ipython",
    "version": 2
   },
   "file_extension": ".py",
   "mimetype": "text/x-python",
   "name": "python",
   "nbconvert_exporter": "python",
   "pygments_lexer": "ipython2",
   "version": "2.7.9"
  }
 },
 "nbformat": 4,
 "nbformat_minor": 0
}
