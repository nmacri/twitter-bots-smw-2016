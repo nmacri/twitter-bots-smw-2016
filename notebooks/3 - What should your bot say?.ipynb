{
 "cells": [
  {
   "cell_type": "code",
   "execution_count": null,
   "metadata": {
    "collapsed": false
   },
   "outputs": [],
   "source": [
    "%cd ~/twitter-bots-smw-2016/\n",
    "from pymarkovchain import MarkovChain\n",
    "import json\n",
    "import random"
   ]
  },
  {
   "cell_type": "markdown",
   "metadata": {},
   "source": [
    "Markov is just fancy name for autocomplete\n",
    "==="
   ]
  },
  {
   "cell_type": "code",
   "execution_count": null,
   "metadata": {
    "collapsed": false
   },
   "outputs": [],
   "source": [
    "f = open('data/smw/talks.ldjson','rb')\n",
    "talks = [json.loads(l) for l in f.readlines()]\n",
    "talk_text = \"\\n\".join([t['name']+\" \"+t['description'] for t in talks])\n",
    "f.close()\n",
    "\n",
    "f = open('data/kanye/quotes.txt','rb')\n",
    "yeezy_text = \"\\n\".join([l for l in f.readlines()])\n",
    "f.close()"
   ]
  },
  {
   "cell_type": "code",
   "execution_count": null,
   "metadata": {
    "collapsed": false
   },
   "outputs": [],
   "source": [
    "mc1 = MarkovChain(dbFilePath='data/markov')\n",
    "mc1.generateDatabase(talk_text, n=2)\n",
    "\n",
    "mc2 = MarkovChain(dbFilePath='data/markov')\n",
    "mc2.generateDatabase(yeezy_text, n=2)"
   ]
  },
  {
   "cell_type": "code",
   "execution_count": null,
   "metadata": {
    "collapsed": true
   },
   "outputs": [],
   "source": [
    "mc2.generateDatabase()"
   ]
  },
  {
   "cell_type": "code",
   "execution_count": null,
   "metadata": {
    "collapsed": false
   },
   "outputs": [],
   "source": [
    "mc1.generateString()"
   ]
  },
  {
   "cell_type": "code",
   "execution_count": null,
   "metadata": {
    "collapsed": false
   },
   "outputs": [],
   "source": [
    "import nltk\n",
    "\n",
    "talk_title = mc1.generateString().lower().strip().encode('ascii','ignore')\n",
    "text = nltk.word_tokenize(talk_title)\n",
    "nltk.pos_tag(text)"
   ]
  },
  {
   "cell_type": "code",
   "execution_count": null,
   "metadata": {
    "collapsed": false
   },
   "outputs": [],
   "source": [
    "def get_talk_title_seed():\n",
    "    talk_title = mc1.generateString().lower().strip().encode('ascii','ignore')\n",
    "    rand_int = random.randint(0,len(talk_title.split(' '))-3)\n",
    "    seed = \" \".join(talk_title.split(' ')[rand_int:rand_int+random.randint(3,5)])\n",
    "    return seed\n",
    "    \n",
    "def tweet_like_kayne():\n",
    "    seed = get_talk_title_seed()\n",
    "    try:\n",
    "        candidate = mc2.generateStringWithSeed(seed)\n",
    "        return candidate\n",
    "    except Exception, e:\n",
    "        print str(e)\n",
    "        return tweet_like_kayne_about_social_media_week_talks()\n",
    "    \n",
    "tweet_like_kayne_about_social_media_week_talks()"
   ]
  },
  {
   "cell_type": "code",
   "execution_count": null,
   "metadata": {
    "collapsed": true
   },
   "outputs": [],
   "source": []
  },
  {
   "cell_type": "markdown",
   "metadata": {},
   "source": [
    "## Twitter Listener"
   ]
  },
  {
   "cell_type": "code",
   "execution_count": null,
   "metadata": {
    "collapsed": false
   },
   "outputs": [],
   "source": [
    "%cd ~/twitter-bots-smw-2016/"
   ]
  },
  {
   "cell_type": "code",
   "execution_count": null,
   "metadata": {
    "collapsed": false
   },
   "outputs": [],
   "source": [
    "from bot import TwitterListener"
   ]
  },
  {
   "cell_type": "code",
   "execution_count": null,
   "metadata": {
    "collapsed": false
   },
   "outputs": [],
   "source": [
    "self = TwitterListener('smw_listener', query=\"#SMWNYC OR #SMWbot OR to:SmwKanye -:(\")"
   ]
  },
  {
   "cell_type": "code",
   "execution_count": null,
   "metadata": {
    "collapsed": false
   },
   "outputs": [],
   "source": [
    "self.backfill()"
   ]
  },
  {
   "cell_type": "code",
   "execution_count": null,
   "metadata": {
    "collapsed": false
   },
   "outputs": [],
   "source": [
    "recent_tweet_text = self.get_recent_text(40)\n",
    "mc3 = MarkovChain(dbFilePath='./markov')\n",
    "mc3.generateDatabase(recent_tweet_text, n=3)"
   ]
  },
  {
   "cell_type": "code",
   "execution_count": null,
   "metadata": {
    "collapsed": true
   },
   "outputs": [],
   "source": [
    "def get_recent_tweet_seed():\n",
    "    text = mc3.generateString()\n",
    "    rand_int = random.randint(0,len(text.split(' '))-5)\n",
    "    seed = \" \".join(text.split(' ')[rand_int:rand_int+random.randint(3,5)])\n",
    "    return seed\n",
    "\n",
    "def tweet_like_kayne():\n",
    "    seed = get_recent_tweet_seed()\n",
    "    try:\n",
    "        candidate = mc2.generateStringWithSeed(seed)\n",
    "        return candidate\n",
    "    except Exception, e:\n",
    "        print str(e)\n",
    "        return tweet_like_kayne()\n",
    "    \n",
    "tweet_like_kayne()"
   ]
  },
  {
   "cell_type": "markdown",
   "metadata": {},
   "source": [
    "## Babbler"
   ]
  },
  {
   "cell_type": "code",
   "execution_count": 2,
   "metadata": {
    "collapsed": false
   },
   "outputs": [
    {
     "name": "stdout",
     "output_type": "stream",
     "text": [
      "/Users/nickmacri/twitter-bots-smw-2016\n"
     ]
    }
   ],
   "source": [
    "%cd ~/twitter-bots-smw-2016/"
   ]
  },
  {
   "cell_type": "code",
   "execution_count": 3,
   "metadata": {
    "collapsed": false
   },
   "outputs": [],
   "source": [
    "from pymarkovchain import MarkovChain\n",
    "import json\n",
    "import random\n",
    "\n",
    "f = open('data/smw/talks.ldjson','rb')\n",
    "talks = [json.loads(l) for l in f.readlines()]\n",
    "talk_text = \"\\n\".join([t['name']+\" \"+t['description'] for t in talks])\n",
    "f.close()\n",
    "\n",
    "f = open('data/kanye/quotes.txt','rb')\n",
    "yeezy_text = \"\\n\".join([l for l in f.readlines()])\n",
    "f.close()"
   ]
  },
  {
   "cell_type": "code",
   "execution_count": 4,
   "metadata": {
    "collapsed": false
   },
   "outputs": [],
   "source": [
    "from bot import MarkovBabbler"
   ]
  },
  {
   "cell_type": "code",
   "execution_count": 5,
   "metadata": {
    "collapsed": false
   },
   "outputs": [
    {
     "name": "stderr",
     "output_type": "stream",
     "text": [
      "WARNING:root:Database file corrupt or not found, using empty database\n",
      "WARNING:root:Database file corrupt or not found, using empty database\n"
     ]
    }
   ],
   "source": [
    "kanye = MarkovBabbler(yeezy_text)\n",
    "smw = MarkovBabbler(talk_text)"
   ]
  },
  {
   "cell_type": "code",
   "execution_count": 21,
   "metadata": {
    "collapsed": false
   },
   "outputs": [
    {
     "name": "stdout",
     "output_type": "stream",
     "text": [
      "Text Candidate rejected for length > 140: The Revolution Will Be Snapped: How Messaging Apps are Changing Social Change Is Snapchat just the social team, and earn more organizational resources\n"
     ]
    },
    {
     "data": {
      "text/plain": [
       "u'Youll turn your kin into an enemy'"
      ]
     },
     "execution_count": 21,
     "metadata": {},
     "output_type": "execute_result"
    }
   ],
   "source": [
    "seed = smw.generate_seed()\n",
    "kanye.generate(seed=seed)"
   ]
  }
 ],
 "metadata": {
  "kernelspec": {
   "display_name": "Python 2",
   "language": "python",
   "name": "python2"
  },
  "language_info": {
   "codemirror_mode": {
    "name": "ipython",
    "version": 2
   },
   "file_extension": ".py",
   "mimetype": "text/x-python",
   "name": "python",
   "nbconvert_exporter": "python",
   "pygments_lexer": "ipython2",
   "version": "2.7.9"
  }
 },
 "nbformat": 4,
 "nbformat_minor": 0
}
