{
 "cells": [
  {
   "cell_type": "markdown",
   "metadata": {},
   "source": [
    "Kanye autocompletes your social strategy: A simple rules-based markov bot for Social Media Week.\n",
    "===="
   ]
  },
  {
   "cell_type": "code",
   "execution_count": 3,
   "metadata": {
    "collapsed": false
   },
   "outputs": [
    {
     "name": "stdout",
     "output_type": "stream",
     "text": [
      "/Users/nickmacri/twitter-bots-smw-2016\n"
     ]
    }
   ],
   "source": [
    "%cd ~/twitter-bots-smw-2016/"
   ]
  },
  {
   "cell_type": "code",
   "execution_count": 4,
   "metadata": {
    "collapsed": false
   },
   "outputs": [],
   "source": [
    "from bot import TwitterBot, MarkovBabbler, TwitterListener\n",
    "import json"
   ]
  },
  {
   "cell_type": "code",
   "execution_count": 5,
   "metadata": {
    "collapsed": false
   },
   "outputs": [],
   "source": [
    "# instantiate the bot\n",
    "kanye = TwitterBot('test1')\n",
    "\n",
    "# instantate the listener and backfill recent tweets\n",
    "smw_listener = TwitterListener('smw', \n",
    "                               query='#SMWNYC OR #SMWbot OR @SmwKanye')\n",
    "try:\n",
    "    smw_listener.backfill()\n",
    "except:\n",
    "    pass\n",
    "\n",
    "# load text data sets\n",
    "f = open('data/smw/talks.ldjson','rb')\n",
    "talks = [json.loads(l) for l in f.readlines()]\n",
    "smw_program_text = \" \".join([t['name']+\" \"+t['description'] for t in talks])\n",
    "smw_program_text = smw_program_text + \"\\n\".join([l for l in f.readlines()])\n",
    "f.close()\n",
    "\n",
    "f = open('data/kanye/quotes.txt','rb')\n",
    "yeezy_text = \"\\n\".join([l for l in f.readlines()])\n",
    "f.close()\n",
    "\n",
    "smw_tweet_text_all = smw_listener.get_recent_text(500)\n",
    "smw_tweet_text_recent = smw_listener.get_recent_text(20)"
   ]
  },
  {
   "cell_type": "code",
   "execution_count": 5,
   "metadata": {
    "collapsed": false
   },
   "outputs": [
    {
     "name": "stderr",
     "output_type": "stream",
     "text": [
      "WARNING:root:Database file corrupt or not found, using empty database\n",
      "WARNING:root:Database file corrupt or not found, using empty database\n",
      "WARNING:root:Database file corrupt or not found, using empty database\n",
      "WARNING:root:Database file corrupt or not found, using empty database\n"
     ]
    }
   ],
   "source": [
    "kanye_babbler = MarkovBabbler(yeezy_text)\n",
    "smw_program_babbler = MarkovBabbler(smw_program_text)\n",
    "smw_all_tweets_babbler = MarkovBabbler(smw_tweet_text_all)\n",
    "smw_recent_tweets_babbler = MarkovBabbler(smw_tweet_text_recent)\n",
    "\n",
    "seed_generators = [smw_program_babbler,\n",
    "                   smw_all_tweets_babbler,\n",
    "                   smw_recent_tweets_babbler]"
   ]
  },
  {
   "cell_type": "code",
   "execution_count": 4,
   "metadata": {
    "collapsed": false
   },
   "outputs": [
    {
     "ename": "NameError",
     "evalue": "name 'smw_all_tweets_babbler' is not defined",
     "output_type": "error",
     "traceback": [
      "\u001b[0;31m---------------------------------------------------------------------------\u001b[0m",
      "\u001b[0;31mNameError\u001b[0m                                 Traceback (most recent call last)",
      "\u001b[0;32m<ipython-input-4-039c82e69eb8>\u001b[0m in \u001b[0;36m<module>\u001b[0;34m()\u001b[0m\n\u001b[1;32m     10\u001b[0m         \u001b[0;32mreturn\u001b[0m \u001b[0mgenerate_text\u001b[0m\u001b[0;34m(\u001b[0m\u001b[0mseed_generator\u001b[0m\u001b[0;34m,\u001b[0m \u001b[0min_reply_to\u001b[0m\u001b[0;34m=\u001b[0m\u001b[0min_reply_to\u001b[0m\u001b[0;34m)\u001b[0m\u001b[0;34m\u001b[0m\u001b[0m\n\u001b[1;32m     11\u001b[0m \u001b[0;34m\u001b[0m\u001b[0m\n\u001b[0;32m---> 12\u001b[0;31m \u001b[0mgenerate_text\u001b[0m\u001b[0;34m(\u001b[0m\u001b[0msmw_all_tweets_babbler\u001b[0m\u001b[0;34m)\u001b[0m\u001b[0;34m\u001b[0m\u001b[0m\n\u001b[0m",
      "\u001b[0;31mNameError\u001b[0m: name 'smw_all_tweets_babbler' is not defined"
     ]
    }
   ],
   "source": [
    "def generate_text(seed_generator, in_reply_to=None):\n",
    "    try:\n",
    "        if in_reply_to:\n",
    "            seed = MarkovBabbler(in_reply_to.text).generate_seed()\n",
    "        else: \n",
    "            seed = seed_generator.generate_seed()\n",
    "        tweet_text = kanye_babbler.generate(seed=seed)\n",
    "        return tweet_text\n",
    "    except:\n",
    "        return generate_text(seed_generator, in_reply_to=in_reply_to)\n",
    "\n",
    "generate_text(smw_all_tweets_babbler)"
   ]
  },
  {
   "cell_type": "code",
   "execution_count": 87,
   "metadata": {
    "collapsed": false
   },
   "outputs": [
    {
     "data": {
      "text/plain": [
       "<twitter.status.Status at 0x1089d0910>"
      ]
     },
     "execution_count": 87,
     "metadata": {},
     "output_type": "execute_result"
    }
   ],
   "source": [
    "b = TwitterBot('production')\n",
    "b.tweet('Data scientists to do award shows for the people')"
   ]
  },
  {
   "cell_type": "code",
   "execution_count": 29,
   "metadata": {
    "collapsed": false
   },
   "outputs": [
    {
     "data": {
      "text/plain": [
       "'!\"#$%&\\'()*+,-./:;<=>?@[\\\\]^_`{|}~'"
      ]
     },
     "execution_count": 29,
     "metadata": {},
     "output_type": "execute_result"
    }
   ],
   "source": [
    "import string\n",
    "string.punctuation"
   ]
  },
  {
   "cell_type": "code",
   "execution_count": 14,
   "metadata": {
    "collapsed": false
   },
   "outputs": [
    {
     "data": {
      "text/plain": [
       "'you should overide this method'"
      ]
     },
     "execution_count": 14,
     "metadata": {},
     "output_type": "execute_result"
    }
   ],
   "source": [
    "def generate_kanye_text(in_reply_to=None):\n",
    "    if in_reply_to:\n",
    "        pass\n",
    "    else:\n",
    "        seed_text = smwtalkdescription_babbler\n",
    "        return kanye_babbler.generate()\n",
    "\n",
    "\n",
    "kanye.generate_text()"
   ]
  },
  {
   "cell_type": "code",
   "execution_count": 123,
   "metadata": {
    "collapsed": false
   },
   "outputs": [],
   "source": [
    "query = \"\"\"\n",
    "(#smwnyc OR \"social media\" OR \"twitter bots\" OR \"automation\" OR #SMWbots OR #SMWbots OR bot OR bots)\n",
    "\"\"\"\n",
    "tweets = kanye._api_client.GetSearch(query)"
   ]
  },
  {
   "cell_type": "code",
   "execution_count": 124,
   "metadata": {
    "collapsed": true
   },
   "outputs": [
    {
     "data": {
      "text/plain": [
       "[u'Social Media is a Hallucinogenic Drug.',\n",
       " u'Social media machine in action!\\ncc: @gauravcsawant @abhijitmajumder @AdityaRajKaul https://t.co/z2r8JLtOaF',\n",
       " u'Cristiano Ronaldo becomes the first athlete to exceed 200,000,000 social media followers: https://t.co/bRxu8GBUmU https://t.co/F8QBGX0rHU',\n",
       " u'@pengo_bot \\u3079\\u3001\\u3079\\u3064\\u306b\\u3042\\u3093\\u305f\\u306e\\u305f\\u3081\\u306b\\u624b\\u7fbd\\u5148\\u7372\\u3063\\u3066\\u304d\\u305f\\u308f\\u3051\\u3058\\u3083\\u306a\\u3044\\u3093\\u3060\\u304b\\u3089\\uff01',\n",
       " u'RT @Alchemist_DO: https://t.co/S4TEWhYUjt\\n\\uc640 \\uc774\\uc5b4\\uc9d1\\ub2c8\\ub2e4.\\n-\\n\"\\uc774\\uc81c \\ubc18\\ud56d\\uc774 \\uc880 \\uc0ac\\uadf8\\ub77c\\ub4e4\\uc5c8\\ub124.\"\\n\"\\uadf8 \\uc0ac\\ub78c\\uc774 \\ub2f9\\uc2e0\\uc744 \\ucc3e\\uc544\\ub0b4\\uba74 \\uc8fd\\uc77c \\uac70\\uc608\\uc694.\"\\n\"\\uc0c1\\uad00 \\uc5c6\\uc5b4, \\uc774\\ubbf8 \\ubc84\\ub9b0 \\ubaa9\\uc228.\"\\n\\n@vampire_BH_bot https:\\u2026',\n",
       " u'@pine_ayase_bot \\u884c\\u3063\\u3066\\u304d\\u307e\\u30595\\uff0a\\xa5',\n",
       " u'\\u3053\\u308c\\u306f\\u2026',\n",
       " u'@JinUzuki_bot \\u307e\\u3068\\u3082\\u306b\\u6b7b\\u306d\\u308b\\u3068\\u601d\\u3046\\u306a\\u3088\\u3001\\u30a6\\u30c5\\u30ad!!',\n",
       " u'RT @marketersp: 8 Social Media Tips to Increase Customer Loyalty https://t.co/o7w9oMvuel',\n",
       " u'@MisonoSenri_bot \\u3046\\u30fc\\u3093\\u3068\\u3001\\u4f55\\u304b\\u8a00\\u3063\\u305f\\u304b\\u306a\\uff1f',\n",
       " u'@ametan2013_bot \\u3084\\u3081\\u3066\\u3055\\u3057\\u3042\\u3052\\u308d',\n",
       " u'@Liu_Feilong_Bot \\u3053\\u306e\\u30aa\\u30ec\\u306b\\u624b\\u306b\\u5165\\u308c\\u3089\\u308c\\u306a\\u3044\\u3082\\u306e\\u306f\\u4f55\\u3082\\u306a\\u3044',\n",
       " u'\\u3044\\u3064\\u307e\\u3067\\u98df\\u3079\\u3066\\u3093\\u306e\\u3063(\\u30c6\\u30e9\\u65e9\\u53e3)',\n",
       " u'\\u3010\\u99c5\\u7d39\\u4ecb\\u3011\\u65b0\\u5e84\\u30fb\\u30fb\\u30fb\\u5c71\\u5f62\\u7dda\\u306f\\u3053\\u3053\\u304c\\u7d42\\u7740&amp;\\u8d77\\u70b9\\u99c5\\u3002\\u79cb\\u7530\\u65b9\\u9762\\u306e\\u5965\\u7fbd\\u672c\\u7dda\\u306f\\u540c\\u4e00\\u30db\\u30fc\\u30e0\\u3067\\u4e57\\u308a\\u63db\\u3048\\u3067\\u304d\\u308b\\u3088\\uff01\\u9014\\u4e2d\\u3067\\u9678\\u7fbd\\u6771\\u7dda\\u3068\\u4e26\\u8d70\\u30d0\\u30c8\\u30eb\\u3092\\u3057\\u3061\\u3083\\u3046w',\n",
       " u'@benymd_bot']"
      ]
     },
     "execution_count": 124,
     "metadata": {},
     "output_type": "execute_result"
    }
   ],
   "source": [
    "[t.text for t in tweets]"
   ]
  },
  {
   "cell_type": "code",
   "execution_count": 157,
   "metadata": {
    "collapsed": false
   },
   "outputs": [],
   "source": [
    "import pandas.io.sql as psql\n",
    "from dateutil.parser import parse\n",
    "\n",
    "sql = \"\"\"\n",
    "SELECT created_at\n",
    "from tweets\n",
    "\"\"\"\n",
    "df = psql.read_sql(sql,smw_listener.db._TweetDatastore__conn)"
   ]
  },
  {
   "cell_type": "code",
   "execution_count": 13,
   "metadata": {
    "collapsed": false
   },
   "outputs": [],
   "source": [
    "tweets = smw_listener._api_client.GetUserTimeline(screen_name='SMWNYC', count= 200)"
   ]
  },
  {
   "cell_type": "code",
   "execution_count": 16,
   "metadata": {
    "collapsed": false
   },
   "outputs": [],
   "source": [
    "import pandas as pd\n",
    "from dateutil.parser import parse\n",
    "df = pd.DataFrame([t.AsDict() for t in tweets])"
   ]
  },
  {
   "cell_type": "code",
   "execution_count": 27,
   "metadata": {
    "collapsed": false
   },
   "outputs": [
    {
     "data": {
      "text/plain": [
       "{0: 0.072916666666666671,\n",
       " 1: 0.072916666666666671,\n",
       " 2: 0.058333333333333334,\n",
       " 3: 0.014583333333333334,\n",
       " 4: 0.014583333333333334,\n",
       " 12: 0.087500000000000008,\n",
       " 13: 0.072916666666666671,\n",
       " 14: 0.17500000000000002,\n",
       " 15: 0.20416666666666669,\n",
       " 16: 0.27708333333333335,\n",
       " 17: 0.3354166666666667,\n",
       " 18: 0.39375000000000004,\n",
       " 19: 0.3208333333333333,\n",
       " 20: 0.40833333333333338,\n",
       " 21: 0.16041666666666665,\n",
       " 22: 0.14583333333333334,\n",
       " 23: 0.10208333333333335}"
      ]
     },
     "execution_count": 27,
     "metadata": {},
     "output_type": "execute_result"
    }
   ],
   "source": [
    "df['hour'] = df.created_at.apply(lambda t: parse(t).hour)\n",
    "hour_counts = df.groupby('hour').count().created_at\n",
    "\n",
    "dict(175 * ((hour_counts.apply(float) / hour_counts.sum()) / 60))"
   ]
  },
  {
   "cell_type": "code",
   "execution_count": 163,
   "metadata": {
    "collapsed": false
   },
   "outputs": [
    {
     "data": {
      "text/plain": [
       "5101"
      ]
     },
     "execution_count": 163,
     "metadata": {},
     "output_type": "execute_result"
    }
   ],
   "source": [
    "len(smw_listener.get_recent_text(50))"
   ]
  },
  {
   "cell_type": "code",
   "execution_count": 6,
   "metadata": {
    "collapsed": false
   },
   "outputs": [],
   "source": [
    "tweet = kanye.tweet('xxlkdxlxxlxxx')"
   ]
  },
  {
   "cell_type": "code",
   "execution_count": 7,
   "metadata": {
    "collapsed": false
   },
   "outputs": [],
   "source": [
    "kanye.db.annotate(tweet,\"do not reply\")"
   ]
  },
  {
   "cell_type": "code",
   "execution_count": 11,
   "metadata": {
    "collapsed": false
   },
   "outputs": [
    {
     "data": {
      "text/plain": [
       "False"
      ]
     },
     "execution_count": 11,
     "metadata": {},
     "output_type": "execute_result"
    }
   ],
   "source": [
    "kanye.should_reply(tweet)"
   ]
  }
 ],
 "metadata": {
  "kernelspec": {
   "display_name": "Python 2",
   "language": "python",
   "name": "python2"
  },
  "language_info": {
   "codemirror_mode": {
    "name": "ipython",
    "version": 2
   },
   "file_extension": ".py",
   "mimetype": "text/x-python",
   "name": "python",
   "nbconvert_exporter": "python",
   "pygments_lexer": "ipython2",
   "version": "2.7.9"
  }
 },
 "nbformat": 4,
 "nbformat_minor": 0
}
