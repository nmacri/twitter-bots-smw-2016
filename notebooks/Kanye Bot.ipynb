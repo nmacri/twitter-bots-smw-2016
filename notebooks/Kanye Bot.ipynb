{
 "cells": [
  {
   "cell_type": "markdown",
   "metadata": {},
   "source": [
    "Kanye autocompletes your social strategy: A simple rules-based markov bot for Social Media Week.\n",
    "===="
   ]
  },
  {
   "cell_type": "code",
   "execution_count": 1,
   "metadata": {
    "collapsed": false
   },
   "outputs": [
    {
     "name": "stdout",
     "output_type": "stream",
     "text": [
      "/Users/nickmacri/twitter-bots-smw-2016\n"
     ]
    }
   ],
   "source": [
    "%cd ~/twitter-bots-smw-2016/"
   ]
  },
  {
   "cell_type": "code",
   "execution_count": 3,
   "metadata": {
    "collapsed": false
   },
   "outputs": [],
   "source": [
    "from library import TwitterBot, MarkovBabbler, TwitterListener\n",
    "import json"
   ]
  },
  {
   "cell_type": "code",
   "execution_count": 4,
   "metadata": {
    "collapsed": false
   },
   "outputs": [],
   "source": [
    "# instantiate the bot\n",
    "kanye = TwitterBot('test1')\n",
    "\n",
    "# instantate the listener and backfill recent tweets\n",
    "smw_listener = TwitterListener('smw', \n",
    "                               query='#SMWNYC OR #SMWbot OR @SmwKanye')\n",
    "try:\n",
    "    smw_listener.backfill()\n",
    "except:\n",
    "    pass\n",
    "\n",
    "# load text data sets\n",
    "f = open('data/smw/talks.ldjson','rb')\n",
    "talks = [json.loads(l) for l in f.readlines()]\n",
    "smw_program_text = \" \".join([t['name']+\" \"+t['description'] for t in talks])\n",
    "smw_program_text = smw_program_text + \"\\n\".join([l for l in f.readlines()])\n",
    "f.close()\n",
    "\n",
    "f = open('data/kanye/quotes.txt','rb')\n",
    "yeezy_text = \"\\n\".join([l for l in f.readlines()])\n",
    "f.close()\n",
    "\n",
    "smw_tweet_text_all = smw_listener.get_recent_text(500)\n",
    "smw_tweet_text_recent = smw_listener.get_recent_text(20)"
   ]
  },
  {
   "cell_type": "code",
   "execution_count": 5,
   "metadata": {
    "collapsed": false
   },
   "outputs": [
    {
     "data": {
      "text/plain": [
       "'tv will never be the same.\\n\\ncatch #smwlaunchatvshow with @vaynermedia\\'s @kpop and @jloom718 this afternoon at 3|2c at #smwnyc.\\ntime to #crushit @kpop & @jloom718. good luck at your panel!  #smwlaunchatvshow #smwnyc\\n@lily_rau \"do crazy-ass shit.\" #protip for social  media and, let\\'s be honest, life. #smwnyc #smwbuzzy @mediamktgguy @comedycentral\\nwalter levitt, cmo of @comedycentral taking about how they get fans talking and sharing. #genius #smwnyc #smw16 \\n@ruchiracb issues of interest for gop on social this election - only 4% of conversation on foreign policy @digimindci #smwnyc \\n@leapcast brilliant @youtube play by @mediamktgguy @trevornoah  #smwnyc #smwbuzzy @womma @smwnyc\\nif you ever wanted any proof about @realdonaldtrump dominating the conversation in the #gop #smwnyc \\n@primevisibility give people things they are going to want to share. @comedycentral approach #smwbuzzy #smwnyc\\ngive people things they are going to want to share. @comedycentral approach #smwbuzzy #smwnyc\\ngood luck pop pop (@jloom718 )and @kpop !!!! #smwnyc\\nreality check guys, donald trump is getting 72% of #election2016 social media mentions and conversations. #whoa #partoftheproblem #smwnyc\\nsounds like #wednesdaywisdom at #smwnyc to me. \\n.@comedycentral @mediamktgguy kicking off today\\'s #smwnyc keynote #smwbuzzy \\nare we choosing ignorance? the price we pay for personalization. check out @jasonbaldridge @theeconomist and @wsj tomorrow at 4:30 #smwnyc\\ni got so lost between the lunch & my afternoon sessions.   #smwnyc #smwbirthday\\nthanks julia for a great session today... #teknion #llc #invisiblehand #technology #smwnyc #smw \\n@kpop & @jloom718, good luck at the panel! you\\'re going to blow. them. away. in true vastly superior fashion. #smwlaunchatvshow #smwnyc\\n#adweekchat -ing from #smwnyc! join the conversation!\\nyou guys make me so proud! @kpop @jloom718 #smwlaunchatvshow #smwnyc\\n@craigcrw check out the data on the usa election trend provided by @digimind #smwdigimind at #smwnyc \\nme trying to subtly glance around the room to figure out who i\\'m interacting with on twitter rn #smwbuzzy #smwnyc \\n@callmemarge yep, confirmed. #smwbuzzy #smwnyc \\n#smwnyc day 1 takeaways per #synthesio all right here  #wednesdaywisdom #socialmediamarketing\\n\"you don\\'t have to have big budgets to make things work - just a great strategy and a smaidea.\" \\n\\n@mediamktgguy #smwnyc #smwbuzzy\\ngood luck @kpop & @jloom718! the peeps at #smwnyc don\\'t even know they have a hit on their hands  #smwlaunchatvshow \\n.@kpop & @jloom718, luck is a superstition neither of you need; therefore, i will not waste the wish. #smwlaunchatvshow #smwnyc\\ncompared to the #gop conversations #smwnyc #smwdigimind analysis. \\nyou don\\'t need a big budget to make things work just smastrategy #smwnyc #smwbuzzy \\njoin @dove at #smwnyc today at 3:30pm to explore the effect of social media on confidence and self-esteem \\nno surprise here. #smwnyc \\nthe purple? that\\'s @realdonaldtrump dominating the conversation #smwnyc \\nissues of interest for gop on social this election - only 4% of conversation on foreign policy @digimindci #smwnyc \\nour @ttilearcio lists her cant-miss sessions from day 1 of #smwnyc. what were yours?  \\ndon\\'t even think of turning that dial. @kpop and @jloom718 talking #smwlaunchatvshow is must-see tv. #smwnyc\\n\"you dont need a big budget to make something happen. you just need a smastrategy & the right idea\" - @mediamktgguy #smwnyc #smwbuzzy\\ninteresting. democratic voters care most about health, gop care most about immigration.  #smwnyc\\nwalter levitt, cmo of @comedycentral spoke about the importance of social shareability when it comes to tv content at #smwnyc.\\n\"you don\\'t need a big budget to do something great, you just need a smastrategy and the right idea\" @mediamktgguy @comedycentral #smwnyc\\n\"do crazy-ass shit.\" #protip for social  media and, let\\'s be honest, life. #smwnyc #smwbuzzy @mediamktgguy @comedycentral\\n@suzy_verbrugge #smwnyc   #smwbuzzy \\n@beaksandgeeks listen to @figbarton, author of the widow  #smwnyc \\nthat...or \"do crazy a$$ sh1t\" - @mediamktgguy! inspired! #smwnyc #smwbuzzy\\n@nlinny happily hosted #smcrdam to #smwnyc thanks @rotterdame @rauwcc @rdambinnenstad @nlintheusa @create_usa @digidiplomats \\ni finally met some folks from #boston at #smwnyc! i was thinking i was the only one. nice chattingin the @zignallabs lounge @digitas folks.\\neverything starts from strategy to a great idea. @mediamktgguy #smwbuzzy #smwnyc\\n@annamariasocial thanks for adding me to smwnyc chest bump! #smwnyc\\n@jennaemurphy learned (& laughed!) a ton via @mediamktgguy at #smwnyc. favorite bit of advice try lots, succeed lots, fail lots. \\nmy husband told me \"kathleen you\\'re not funny, do not try!\" that\\'s why i am @comedycentral #smwnyc #nevergiveup\\n@callmemarge yep, confirmed. #smwbuzzy #smwnyc \\ncheck out the data on the usa election trend provided by @digimind #smwdigimind at #smwnyc \\n#smwnyc   #smwbuzzy \\nsocial media followings can influence which talent they hire, but it is not end all be all #smwnyc #smwbuzzy\\n@clancy214 try lots. succeed lots. fail lots. do crazy-ass s&%t. best advice for life, period. #smwnyc  #smwbuzzy @mediamktgguy \\n@mediamktgguy best of #smwnyc 2016 by far\\n@kasiakarolak_ panelists @rbinhammer @dricheson @ekaterina and @scottmonty at data! insight! action!  #smwnyc  #socialmediaweek \\n@justcallmeneb sounds like a plan...#smwnyc #goals \\n@abcconcepts at #smwnyc with @apdolan :) #bwfound #bwfound \\n@mmctweets \"segment your audiences and engage the 1% of advocates they\\'ll bring your customers for free\" -@ekaterina #smwnyc \\nmy body is ready. \\n#smwnyc  \\n@callmemarge yep, confirmed. #smwbuzzy #smwnyc \\n@michael_womma words of wisdom from @mediamktgguy #smwnyc @womma #womm \\nlearned (& laughed!) a ton via @mediamktgguy at #smwnyc. favorite bit of advice try lots, succeed lots, fail lots. \\n@callmemarge if you think adult coloring is the hottest trend so basically you better retweet because if not, you\\'re wrong #smwbuzzy\\n.@whowhatwear at #smwnyc \\nwe\\'re going there  #smwnyc \\n@gailie keep doing crazy a$$ sh!t, @comedycentral, were watching! @mediamktgguy #smwnyc #smwbuzzy\\ntry lots. succeed lots. fail lots. do crazy-ass s&%t. best advice for life, period. #smwnyc  #smwbuzzy @mediamktgguy \\n@terriciccone favorite piece of advice from #smwnyc comes from @mediamktgguy and @comedycentral. #smwbuzzy \\n@beaksandgeeks listen to @figbarton, author of the widow  #smwnyc \\n@terriciccone favorite piece of advice from #smwnyc comes from @mediamktgguy and @comedycentral. #smwbuzzy \\n@callmemarge yep, confirmed. #smwbuzzy #smwnyc \\n@royzoner some genius core principles from #smwbuzzy #smwnyc \\n@jerinnow icymi inspired by this #smwnyc panel on marketing with @ekaterinawalter and @mmcgram \\n@meshfire #smwnyc is happening right now and we\\'re following along using meshfire. are you at the conference? \\n@leapcast brilliant @youtube play by @mediamktgguy @trevornoah  #smwnyc #smwbuzzy @womma @smwnyc\\n@alimercier \"try lots. succeed lots. fail lots.\" i\\'ll take that advice @mediamktgguy. #smwnyc #smwbuzzy\\nall of our favorite thing to hear make me a viral video #not #smwnyc \\n@terriciccone favorite piece of advice from #smwnyc comes from @mediamktgguy and @comedycentral. #smwbuzzy \\n@alimercier \"try lots. succeed lots. fail lots.\" i\\'ll take that advice @mediamktgguy. #smwnyc #smwbuzzy\\nwords of wisdom from @mediamktgguy #smwnyc @womma #womm \\nsome genius core principles from #smwbuzzy #smwnyc \\nsounds like a plan...#smwnyc #goals \\n.@mediamktgguy sharing his \"viral\" expertise... hahaha just kiddin\\' (he hates \\'viral\\' term) #smwnyc \\n#smwnyc @mediamktgguy \\nkeep doing crazy a$$ sh!t, @comedycentral, were watching! @mediamktgguy #smwnyc #smwbuzzy\\n\"when your brand stands for irreverent, you have to do crazy ass shit.\" @mediamktgguy @comedycentral #smwnyc\\nfavorite piece of advice from #smwnyc comes from @mediamktgguy and @comedycentral. #smwbuzzy \\nalways ask is it shareable? #smwnyc #smwbuzzy\\n@jennifinkle brilliant youtube campaign by @comedycentral with keyword search for @trevornoah  #bravo #smwnyc \\ntry lots, succeed, & fail - @comedycentral approach #smwnyc \"do crazy ass shit\" #smwbuzzy\\n@stevencovey - listen with the intent to understand, not with the intent to reply #smwnyc #listenupsmw\\n@megtoconnor \"75% of @buzzfeed\\'s traffic comes from social referrals. 70% comes from mobile.\" (crazy!) #smwnyc #smwbuzzfeed\\n@boltweb @smwnyc @ogilvy knows how to throw them a seminar! #socialcrm #smwnyc #boom #packedhouse @brooklynbrewery \\nat #smwnyc with @apdolan :) #bwfound #bwfound \\nsomeone \"make me a viral video\"\\n@mediamktgguy \\n#smwbuzzy #smwnyc \\n\"try lots. succeed lots. fail lots.\" i\\'ll take that advice @mediamktgguy. #smwnyc #smwbuzzy\\n@blankavery @jackiesbuzz @lisapetrilli my colleague @jerinnow will be there as well! joining us for #decodesocialsmw, @gianna212? #smwnyc\\n#smwnyc is happening right now and we\\'re following along using meshfire. are you at the conference? \\n@iamnikkistrong sometimes it\\'s not about individual influencers  but influential communities #smwnyc #smwsocialinfluence\\n@andrejulian_ are you listening? effectively monitoring your audience is important! #listenupsmw #smwnyc @digimindci\\n@kathleenhessert #sportsbiz #smwnyc #virtualreality \\n@streamix_ml when you\\'re listening on social apply across the org. - everywhere from marketing, to legal, to hr, to sales. #socialliste\\nquestions @comedycentral asks when doing a campaign - is.it sharable? #smwnyc #smwbuzzy\\ndon\\'t handicap yourself by not doing things that can\\'t be measured. #smwbuzzy #smwnyc\\n\"we all want to do cool shit.\" #awesome session w/ @mediamktgguy from @comedycentral #smwnyc \\n@tarjar_ on set  #smwsocialinfluence #smwnyc \\n@leapcast brilliant @youtube play by @mediamktgguy @trevornoah  #smwnyc #smwbuzzy @womma @smwnyc\\nbrilliant @youtube play by @mediamktgguy @trevornoah  #smwnyc #smwbuzzy @womma @smwnyc\\nposing. #smwnyc #bwfound \\n#smwnyc comedy is the most important pato shape the identity of millennials @ccnybic \\n@andrejulian_ are you listening? effectively monitoring your audience is important! #listenupsmw #smwnyc @digimindci\\nlove love love the engaging @comedycentral trevor noah youtube/answer questions campaign & how it came to be #smwnyc #smwnyc\\nhey @brandwatch, you need more screens\\n\\n#nyc #smwnyc  \\n@dixieinnewyork \"the rise of social communities and media amplifies the voice of everyone.\" #smwnyc #hootsmw @dkcnews \\nexcited that the wifi actually works in the times center #smwnyc\\n@jennifinkle brilliant youtube campaign by @comedycentral with keyword search for @trevornoah  #bravo #smwnyc \\n\\'most people do not listen with the intent to understand; they listen with the intent to reply\\' -steven covey #smwnyc #listenupsmw\\nare you listening? effectively monitoring your audience is important! #listenupsmw #smwnyc @digimindci\\n@iamnikkistrong sometimes it\\'s not about individual influencers  but influential communities #smwnyc #smwsocialinfluence\\n@arabellacm social media isn\\'t just about engaging with your audience but listening to your audience. #smwnyc\\n@arabellacm social media isn\\'t just about engaging with your audience but listening to your audience. #smwnyc\\ntouch, mina..\\ntouch\\n#smwnyc  \\n@bw_beyond watch @willmcinnes live here   #smwnyc\\n@citybyheart \"your people extend your reach. the numbers speak for themselves.\" #hootsmw #smwnyc \\n\"measure what matters. target, benchmark, optimize.\" #smwnyc #hootsmw\\nmeasure what matters. target, benchmark, optimize. #hootsmw #smwnyc #digitalmarketing \\nyou and you on sm and not following #smw feb 22nd -26th edition in your #city you are on the longtin...@smwlagos , @smwnyc, @smwldn and etc.\\nreally provoking points being made here by @willmcinnes #smwnyc \\n@bw_beyond watch @willmcinnes live here   #smwnyc\\n@kimelsham .@hootsuite use your team as advocates. make it easy for employees to engage and share. branded merch, copy templates, etc.\\nwho controls the #algorithms that tell us how to live, what to do, how much to pay for #healthcare, etc...? #smwnyc #smwbrandwatch\\n@aimhigherafrica and @forbesafrica join forces to empower youngreneurs for #socialmediaweek   @bellanaija\\n@aimhigherafrica and @forbesafrica join forces to empower youngreneurs for #socialmediaweek   @bellanaija\\nthe most amazing stat of the week via @wsj #smwnyc \\n@linfordmiles @candiceinvan thanks for listening linford!  it will be live for 24 hours, so feel free to watch later! #hoottsmw #smwnyc\\n@willmcinnes live at #smwnyc on periscope now! \\nall stages are not equal  via @mktgunbound @mercedescardona #smweconomist\\n.@hootsuite use your team as advocates. make it easy for employees to engage and share. branded merch, copy templates, etc. #smwnyc\\ni\\'m just glad there\\'s a slide that says a/b testing. i feel like people ignore this in social. #smwnyc  \\n@allegra_lynn yes yes yes! awesome reminder! #smwnyc #hootsmw \\n@bw_beyond watch @willmcinnes live here   #smwnyc\\n@bw_beyond watch @willmcinnes live here   #smwnyc\\neverything is powered by algorithms. @spotify discover weekly, @googlemaps, @tinder, etc. @willmcinnes #smwnyc \\n@smwnyc \"amplification of reach - use your employees as advocates to exponentially grow reach @candiceinvan\" (via @ruchiracb) #hootsmw \\n3) @wileytech \"empowered people with confidence\" #hootsmw #smwnyc \\n@bw_beyond watch @willmcinnes live here   #smwnyc\\nif anyone happens to find this pin at the sva theater #smwnyc, it\\'s mine  \\nwatch live @willmcinnes \\'s talk at #smwnyc on the democratizing of data  \\nshoutout to social media team at @vegateam from @candiceinvan at @socialmediaweek #smwnyc #smw16 #hootsmw #vega \\n\\'we need to get the word out do let\\'s bsu this (blow shit up). lol insight from @hootsuite  #smwnyc #hootsmw \\n@corriedavidson #smwnyc \"the general public want to hear directly from employees as ambassadors for the company.\" edelman trust baromet\\nso many awesome advocacy tips from  @candiceinvan  at #smwnyc #hootsmw \\n@aimhigherafrica and @forbesafrica join forces to empower youngreneurs for #socialmediaweek   @rexidaminabo\\n@aimhigherafrica and @forbesafrica join forces to empower youngreneurs for #socialmediaweek   @rexidaminabo\\n.@hootcommunity of course! fyi it\\'s byohd (bring your own hootsuite dashboard). #smwnyc #hootsmw\\nwho are algorithms working for? #smwnyc #smwbrandwatch \\n@aimhigherafrica and @forbesafrica join forces to empower youngreneurs for #socialmediaweek   @debolalagos\\n@aimhigherafrica and @forbesafrica join forces to empower youngreneurs for #socialmediaweek   @debolalagos\\n@hootcommunity had to dip out of @candiceinvan\\'s presentation (on periscope) for work but she\\'s killing it!  #smwnyc\\nso great seeing @vegateam and @eatspinrunrpt shout out from @candiceinvan at #smwnyc #hootsmw #vegan \\n@pinchsocial good morning, new york! we\\'re here at times centre for keynote on #vr. who else is here? #smwnyc #smwnyt \\n@aracetaren @afdhelaziz @tascamme @sfoster1982 @jomckinney just elbow dropped #smwnyc probably the best session i\\'ve been to yet, soooo\\n\"the invisible hand\" - is it working for you or for \"them\" - @willmcinnes @brandwatch #smwnyc #algorithms #content\\ngreat illustration of how your employees expand your reach. #smwnyc \\ngetting to the core of who you\\'re community is and how to define it is central to being successful. #smwnyc\\nlike this explanation of different platforms. #smwnyc \\n@aimhigherafrica and @forbesafrica join forces to empower youngreneurs for #socialmediaweek  @peac_hy @maryojulari\\n@aimhigherafrica and @forbesafrica join forces to empower youngreneurs for #socialmediaweek  @peac_hy @maryojulari\\n@oliviadello \"different social networks attract different audiences. share relevant content and grow distinct communities.\" #smwnyc #ho\\n@thomaskernan .@afdhelaziz just compared #adblocking to napster, but for the ad industry. brilliant. #smwcrowdtap #smwnyc\\n@matthewcscott @afdhelaziz \"the future of marketing is democratized\" #smwnyc #smwcrowdtap\\n@mikeo13rien my next @clickz profile @afdhelaziz compares ad blocking to napster. #smwnyc\\nwatch @willmcinnes live here   #smwnyc\\n@hell0itslili \"the future is now,\" (@afdhelaziz) we have to grab it and collaborate  to stay relevant #smwnyc #smwcrowdtap\\n@thomaskernan technology will do the the ad business, what it did to the music business. - @afdhelaziz #smwcrowdtap #smwnyc\\n@bw_beyond if you\\'re at #smwnyc today catch @brandwatch cmo, @willmcinnes, discussing the democratizing of data\\ni can attest to that feeling. i\\'m paof @sproutsocial\\'s sprout all-star program and it feels that way #smwnyc  \\n@columbia_sps in town for #smwnyc? don\\'t miss @metmuseum\\'s chief digital officer @sree at @columbia  #smm \\n@mrlehrer happening now-democratizing data. @brandwatch @willmcinnes #bwfound #smwnyc \\nsharing from social media week - always a great read. \\n\\nwhite picket fence creatives mashable - social media... \\nday 2 #smwnyc \\n@hell0itslili \"the most interesting paof #data is who is sharing. people have become our media\" @afdhelaziz #smwnyc #smwcrowdtap \\neinblicke \"von journalisten lernen\" bei der social media week #smwhh \\n#smwnyc un contenu diffrent pour une appli diffrente \\n@canadany we\\'re just 110 followers away from hitting our 5k goal help by rting this post! #smwnyc show us your twitter power! \\nreally enjoying @smwkanye tweets about social media week. #thetwitterofthelife\\nwho we fall in love with is now driven by #algorithms #smwnyc\\n@_meglew \"don\\'t buy an impression, make one\" @afdhelaziz  #smwnyc\\n \\nwe\\'re just 110 followers away from hitting our 5k goal help by rting this post! #smwnyc show us your twitter power! \\n@pinchsocial good morning, new york! we\\'re here at times centre for keynote on #vr. who else is here? #smwnyc #smwnyt \\ntwitter attracts people interested in product releases and news  #newjunkie #smwnyc #hootsmw\\nsegun agbaje, md of gtbank is keynote speaker at social media weeks #ytech100  the managing director of gua... \\n@nyczerowaste is empowering me to be an internal brand advocate by creating great learning opportunities!  @smwnyc is so informative! #dsny\\nsegun agbaje, md of gtbank is keynote speaker at social media weeks #ytech100  the managing director of gua... \\n#nigerianyoot segun agbaje, md of gtbank is keynote speaker at social media weeks #ytech100  the managing d... \\n\"leveraging creative, tech, & culture reality through vr-tinted goggles\" = the most technologically-centric panel & 1 w/most women @smwnyc\\nwe trust our lives with #algorithms like maps and preferences on best routes to take or tunes to listen or artificial assistants #smwnyc\\n2) @vegateam #hootsmw #smwnyc \\nsegun agbaje, md of gtbank is keynote speaker at social media weeks #ytech100  the managing director of gua... \\nsegun agbaje, md of gtbank is keynote speaker at social media weeks #ytech100  the managing director of gua... \\n(@joe2bees) segun agbaje, md of gtbank is keynote speaker at social media weeks #ytech100  the managing dir... \\n@dixieinnewyork \"the rise of social communities and media amplifies the voice of everyone.\" #smwnyc #hootsmw @dkcnews \\nlet\\'s talk about data and decision-making with @brandwatch.  #smwnyc \\ngreat panel at #smwnyc this morning with @crowdtappers on bracing for the ad-blocked future. consider me fully braced.\\nloving all this important information from .@candiceinvan about turning super fans into impactful brand advocates #smwnyc #hootsmw\\ngreat illustration of how your employees expand your reach. #smwnyc \\n@jennmaffeo thanks! i had a great time at last nights event! #smwnyc #smwheroes\\n\"@shot_tr3s @millenniallife_ you should check this panel out! #smwnyc   this looks awesome!! @dove\\ni don\\'t know any of these brands @candiceinvan is referencing #oldman #getoffmylawn #hootsmw #smwnyc\\n#smwnyc @willmcinnes takes the stage. if you can\\'t be here in person, find the slides here - \\ninstagram attracts aspiring photographers\\ntwitter attracts ppl interested in product releases\\ngrow distinct communities \\n#hootsmw #smwnyc\\nbrands that are doing it well 1) @herschelsupply #hootsmw #smwnyc \\nback @smwnyc #smwnyc hearing the inside files of @hootsuite @hootcommunity @sva_news #cansmw \\nthey\\'re know your business, they want to spreas the love & likely on social. employee advocacy at #hootsmw #smwnyc \\n\"different social networks attract different audiences. share relevant content and grow distinct communities.\" #smwnyc #hootsmw\\n#smwnyc don\\'t be afraid to grow distinct audiences on different social channels. the audiences and interests are different, speak to that.\\namazing insight from herschel lifestyle brand at #hootsmw #smwnyc \\n@cbarrows far too many forget this. one of the  big problems with so much focus on automation in social media lately #smwnyc  \\nmega thought nectar and japes from @willmcinnes on periscope now   #smwnyc\\n\"brand\" ambassadors stawith motivating employees to  the brand. you know what that means @jmacgregor205?  and    #smwnyc #hootsmw\\n@emilyinyc \"you\\'re 25yrs into your career&someone comes to you w/ smthg you don\\'t quite understand-it\\'s embarrassing.\"@jomckinney #smwc\\nwe are all \\'habit machines\\' @brandwatch  #smwnyc\\nhappening now-democratizing data. @brandwatch @willmcinnes #bwfound #smwnyc \\n@thomaskernan purpose driven strategy think about the why. - @jomckinney #smwcrowdtap #smwnyc\\n@emilyinyc starting with or rethinking the why is so key @jomckinney #smwcrowdtap #smwnyc\\n@lrmann \"bsu (blow shit up)\" - how @hootsuite motivates employees to be brand evangelists. #hootsmw #smwnyc  \\n@thomaskernan honor the consumer voice. - @jomckinney #smwcrowdtap #smwnyc\\n@thedrumnyc \"delight your customers to weaponise your word of mouth\" - @afdhelaziz @ #smwnyc on creating customer experiences \\n@mcnics133 \"it\\'s not our job to make an ad anymore. it\\'s about unlocking game changing insights & opps .\" @jomckinney on role of agenci\\n@smwnyc \"amplification of reach - use your employees as advocates to exponentially grow reach @candiceinvan\" (via @ruchiracb) #hootsmw \\n@thomaskernan a partnership with consumers isnt just about the content they create, but how they inform our culture. - @jomckinney #sm\\n@smwnyc \"amplification of reach - use your employees as advocates to exponentially grow reach @candiceinvan\" (via @ruchiracb) #hootsmw \\n@candaceinvan #hootsmw be sure to #bsu in a good way. follow @womma ethical guidelines #smwnyc\\nthe annual #ytech100 is tomorrow at the social mediaweek  \\nsegun agbaje, managing director of gtbank is keynote speaker at social media weeks #ytech100 the managing... \\n@itsemt wham!  #photobooth at the #smwheroes #panel! #smwnyc #socialmedia #smw #nyc @hootsuite @liftmetrix #superhero \\nsegun agbaje, md of gtbank is keynote speaker at social media weeks #ytech100   rt\\n@ryanoemge @brandwatch @willmcinnes hey ryan, you can watch here  #smwnyc\\nrecap from day 1 at social media week, it was great extremely excited for day 2 really gre  \\n#ghanagist @aimhigherafrica and @forbesafrica join forces to empower youngreneurs for  \\nrecap from day 1 at social media week, it was great extremely excited for day 2 really gre  \\n@citybyheart \"your people extend your reach. the numbers speak for themselves.\" #hootsmw #smwnyc \\nsuch great tips from @candiceinvan @hootsuite about the importance of internal brand advocacy    #hootsmw #smwnyc\\n@aracetaren @afdhelaziz @tascamme @sfoster1982 @jomckinney just elbow dropped #smwnyc probably the best session i\\'ve been to yet, soooo\\n@citybyheart \"your people extend your reach. the numbers speak for themselves.\" #hootsmw #smwnyc \\n@mariapilarcasal i second this request, this presentation is awesome! #smwnyc  \\nsocial media week in nyc - great to be working with global content \\n \\n\"be everywhere - don\\'t make a bet too early\" @smwnyc\\n.@hootsuite\\'s session reminds us that zed is a letter in other parts of the world. #canada #smwnyc #fb\\nwe are all \\'habit machines\\' @willmcinnes #smwnyc\\n@annafatlowitz how internal advocacy can extend your brand\\'s reach #smwnyc #hootsmw \\ni second this request, this presentation is awesome! #smwnyc  \\n\"your people extend your reach. the numbers speak for themselves.\" #hootsmw #smwnyc \\n@aracetaren @afdhelaziz @tascamme @sfoster1982 @jomckinney just elbow dropped #smwnyc probably the best session i\\'ve been to yet, soooo\\n\"amplification of reach - use your employees as advocates to exponentially grow reach @candiceinvan\" (via @ruchiracb) #hootsmw #smwnyc\\nloving meg lewis from @hootsuite on reach at #smwnyc \\n#vr = opening up a new door to humanity @smwnyc @smwnyt\\nsomeone who does x, y or zed @candiceinvan #hootsmw #smwnyc #smwbirthday\\nnew slang from @hootsuite via @candiceinvan \"bsu = blow shit up, social media style.\" #smwnyc #hootsmw\\n@tarjar_ community impact on social - build a relationship and take care of super fans  @candiceinvan #hootsmw #smwnyc \\nless than 24 hours until our @smwnyc panel where we\\'ll discuss how #socialtv is a new kind of focus group. \\nlove this! @candiceinvan discussing how employee advocacy can extend your social reach! #hootsmw #smwnyc \\nexcited to be speaking on a panel at @360i\\'s nyc hq today. #smwnyc @womma #winewednesday\\n@dixieinnewyork \"the rise of social communities and media amplifies the voice of everyone.\" #smwnyc #hootsmw @dkcnews \\nsocial media week 2016 digelar di jakarta acara ini juga dibuka oleh triawan munaf, kepala badan ekonomi krea.. \\nsocial media week 2016 digelar di jakarta acara ini juga dibuka oleh triawan munaf, kepala badan ekonomi krea.. \\n@waheedaidris sir kudos to your response to some of the questions at at the social media week forum ended couple of minutes ago @yomish\\nwe need to #bsyouthis lol! nice one @candiceinvan #smwnyc #hootsmw @hootsuite\\n@synthesio three important words from today\\'s #smwnyt session purpose, presence and proximity #smwnyc\\n@synthesio three important words from today\\'s #smwnyt session purpose, presence and proximity #smwnyc\\n@arabellacm love this!! both digital and physical #smwnyc \\n@archinetonline for #smw16 we are offering free accounts on our file bank application. re-tweet this by 2/26 to accept and we will dm y\\nthe beauty of tech panel will be held on the innovation stage at social media week on 25th \\namplification of reach - use your employees as advocates to exponentially grow reach #hootsmw #smwnyc @candiceinvan \\n\"purpose, presence, & proximity\" = #vr @smwnyc \\n@meredith_levien @sydneyraylevin @samdolnick @kcraigwell @tguth3 \\n@roaritstony creating a whole experience for your fan can turn them into an advocate for your brand. #smwnyc #hootsmw \\nbrand ambassadors starts w/ employees they know your business, they\\'re on social & they care about your business.  @candiceinvan #smwnyc\\n@cbarrows @candiceinvan and myself are here! come say hi at the ask me anything station in the lobby after the session #smwnyc #hootsmw\\n@mcguire_kat at @smwnyc talking about our amazing global #hootup program hosted by our awesome #hootamb crew #smwnyc #hootsmw \\namplify your people, leverage employees and look how reach can be extended #smwnyc  #fresheyes #hootamb \\n\"@smwkanye @millenniallife_ til the wheels dont spin\" well done @codeandtheory @socialmediaweek #smwnyc \\n@cogentoa discover how #socialmedia impact our lives. read the latest research for #free   #smwny \\n@smwnyc trial by platforms the pressure on media and advertising to evolve with digital \\n@jennifermirsky \"if print is about knowing your reader, digital is giving them what they want.\" @josaltz #datavsgut #smwnyc \\nbeing transparent & open is not just good business practice, its essential.   #transparency @theeconomist\\ncongrats to @chinwag @uktinewyork on a great mission from london to nyc for #smwnyc including @thebakeryldn \\nsocial media week 2016 digelar di jakarta \\nso fab to see @thebakeryldn in #nyc #adtech #accelerator. paof great mission for #smwnyc @uktinewyork @chinwag \\n@knewkeed all you need to know about social media week lagos 2016.\\n#acceleratetv via @acceleratetv   \\n@radicaldublin we visited our friends in @breakfastny to see some of their amazing innovations! this is @pointssign #smwnyc \\nwe visited our friends in @breakfastny to see some of their amazing innovations! this is @pointssign #smwnyc \\nall you need to know about social media week lagos 2016. #acceleratetv via acceleratetv   \\n@knewkeed all you need to know about social media week lagos 2016.\\n#acceleratetv via @acceleratetv   \\n@knewkeed all you need to know about social media week lagos 2016.\\n#acceleratetv via @acceleratetv   \\n@knewkeed all you need to know about social media week lagos 2016.\\n#acceleratetv via @acceleratetv   \\n@knewkeed all you need to know about social media week lagos 2016.\\n#acceleratetv via @acceleratetv   \\n@knewkeed all you need to know about social media week lagos 2016.\\n#acceleratetv via @acceleratetv   \\n@knewkeed all you need to know about social media week lagos 2016.\\n#acceleratetv via @acceleratetv   \\n@knewkeed all you need to know about social media week lagos 2016.\\n#acceleratetv via @acceleratetv   \\n@knewkeed all you need to know about social media week lagos 2016.\\n#acceleratetv via @acceleratetv   \\n@knewkeed all you need to know about social media week lagos 2016.\\n#acceleratetv via @acceleratetv   \\n@knewkeed all you need to know about social media week lagos 2016.\\n#acceleratetv via @acceleratetv   \\n@knewkeed all you need to know about social media week lagos 2016.\\n#acceleratetv via @acceleratetv   \\n@knewkeed all you need to know about social media week lagos 2016.\\n#acceleratetv via @acceleratetv   \\n@knewkeed all you need to know about social media week lagos 2016.\\n#acceleratetv via @acceleratetv   \\n@knewkeed all you need to know about social media week lagos 2016.\\n#acceleratetv via @acceleratetv   \\n@knewkeed all you need to know about social media week lagos 2016.\\n#acceleratetv via @acceleratetv   \\n@knewkeed all you need to know about social media week lagos 2016.\\n#acceleratetv via @acceleratetv   \\n@knewkeed all you need to know about social media week lagos 2016.\\n#acceleratetv via @acceleratetv   \\n@knewkeed all you need to know about social media week lagos 2016.\\n#acceleratetv via @acceleratetv   \\n@knewkeed all you need to know about social media week lagos 2016.\\n#acceleratetv via @acceleratetv   \\n@knewkeed all you need to know about social media week lagos 2016.\\n#acceleratetv via @acceleratetv   \\n@knewkeed all you need to know about social media week lagos 2016.\\n#acceleratetv via @acceleratetv   \\n@knewkeed all you need to know about social media week lagos 2016.\\n#acceleratetv via @acceleratetv   \\n@knewkeed all you need to know about social media week lagos 2016.\\n#acceleratetv via @acceleratetv   \\n@knewkeed all you need to know about social media week lagos 2016.\\n#acceleratetv via @acceleratetv   \\n@knewkeed all you need to know about social media week lagos 2016.\\n#acceleratetv via @acceleratetv   \\n@knewkeed all you need to know about social media week lagos 2016.\\n#acceleratetv via @acceleratetv   \\n@knewkeed all you need to know about social media week lagos 2016.\\n#acceleratetv via @acceleratetv   \\n@knewkeed all you need to know about social media week lagos 2016.\\n#acceleratetv via @acceleratetv   \\n@knewkeed all you need to know about social media week lagos 2016.\\n#acceleratetv via @acceleratetv   \\n@knewkeed all you need to know about social media week lagos 2016.\\n#acceleratetv via @acceleratetv   \\n@knewkeed all you need to know about social media week lagos 2016.\\n#acceleratetv via @acceleratetv   \\n@knewkeed all you need to know about social media week lagos 2016.\\n#acceleratetv via @acceleratetv   \\n@knewkeed all you need to know about social media week lagos 2016.\\n#acceleratetv via @acceleratetv   \\n@knewkeed all you need to know about social media week lagos 2016.\\n#acceleratetv via @acceleratetv   \\n@knewkeed all you need to know about social media week lagos 2016.\\n#acceleratetv via @acceleratetv   \\n@knewkeed all you need to know about social media week lagos 2016.\\n#acceleratetv via @acceleratetv   \\n@knewkeed all you need to know about social media week lagos 2016.\\n#acceleratetv via @acceleratetv   \\n@knewkeed all you need to know about social media week lagos 2016.\\n#acceleratetv via @acceleratetv   \\n@knewkeed all you need to know about social media week lagos 2016.\\n#acceleratetv via @acceleratetv   \\n@knewkeed all you need to know about social media week lagos 2016.\\n#acceleratetv via @acceleratetv   \\n@knewkeed all you need to know about social media week lagos 2016.\\n#acceleratetv via @acceleratetv   \\n@knewkeed all you need to know about social media week lagos 2016.\\n#acceleratetv via @acceleratetv   \\n@knewkeed all you need to know about social media week lagos 2016.\\n#acceleratetv via @acceleratetv   \\n@knewkeed all you need to know about social media week lagos 2016.\\n#acceleratetv via @acceleratetv   \\n@knewkeed all you need to know about social media week lagos 2016.\\n#acceleratetv via @acceleratetv   \\n@knewkeed all you need to know about social media week lagos 2016.\\n#acceleratetv via @acceleratetv   \\n@knewkeed all you need to know about social media week lagos 2016.\\n#acceleratetv via @acceleratetv   \\n@knewkeed all you need to know about social media week lagos 2016.\\n#acceleratetv via @acceleratetv   \\n@knewkeed all you need to know about social media week lagos 2016.\\n#acceleratetv via @acceleratetv   \\n@knewkeed all you need to know about social media week lagos 2016.\\n#acceleratetv via @acceleratetv   \\n@knewkeed all you need to know about social media week lagos 2016.\\n#acceleratetv via @acceleratetv   \\n@knewkeed all you need to know about social media week lagos 2016.\\n#acceleratetv via @acceleratetv   \\n@knewkeed all you need to know about social media week lagos 2016.\\n#acceleratetv via @acceleratetv   \\n@knewkeed all you need to know about social media week lagos 2016.\\n#acceleratetv via @acceleratetv   \\n@knewkeed all you need to know about social media week lagos 2016.\\n#acceleratetv via @acceleratetv   \\n@knewkeed all you need to know about social media week lagos 2016.\\n#acceleratetv via @acceleratetv   \\n@knewkeed all you need to know about social media week lagos 2016.\\n#acceleratetv via @acceleratetv   \\n@knewkeed all you need to know about social media week lagos 2016.\\n#acceleratetv via @acceleratetv   \\n@knewkeed all you need to know about social media week lagos 2016.\\n#acceleratetv via @acceleratetv   \\n@knewkeed all you need to know about social media week lagos 2016.\\n#acceleratetv via @acceleratetv   \\n@knewkeed all you need to know about social media week lagos 2016.\\n#acceleratetv via @acceleratetv   \\n@knewkeed all you need to know about social media week lagos 2016.\\n#acceleratetv via @acceleratetv   \\n@knewkeed all you need to know about social media week lagos 2016.\\n#acceleratetv via @acceleratetv   \\n@knewkeed all you need to know about social media week lagos 2016.\\n#acceleratetv via @acceleratetv   \\n@knewkeed all you need to know about social media week lagos 2016.\\n#acceleratetv via @acceleratetv   \\n@knewkeed all you need to know about social media week lagos 2016.\\n#acceleratetv via @acceleratetv   \\n@knewkeed all you need to know about social media week lagos 2016.\\n#acceleratetv via @acceleratetv   \\n@knewkeed all you need to know about social media week lagos 2016.\\n#acceleratetv via @acceleratetv   \\n@knewkeed all you need to know about social media week lagos 2016.\\n#acceleratetv via @acceleratetv   \\n@knewkeed all you need to know about social media week lagos 2016.\\n#acceleratetv via @acceleratetv   \\n@knewkeed all you need to know about social media week lagos 2016.\\n#acceleratetv via @acceleratetv   \\n@knewkeed all you need to know about social media week lagos 2016.\\n#acceleratetv via @acceleratetv   \\n@knewkeed all you need to know about social media week lagos 2016.\\n#acceleratetv via @acceleratetv   \\n@knewkeed all you need to know about social media week lagos 2016.\\n#acceleratetv via @acceleratetv   \\n@knewkeed all you need to know about social media week lagos 2016.\\n#acceleratetv via @acceleratetv   \\n@knewkeed all you need to know about social media week lagos 2016.\\n#acceleratetv via @acceleratetv   \\n@knewkeed all you need to know about social media week lagos 2016.\\n#acceleratetv via @acceleratetv   \\n@knewkeed all you need to know about social media week lagos 2016.\\n#acceleratetv via @acceleratetv   \\n@knewkeed all you need to know about social media week lagos 2016.\\n#acceleratetv via @acceleratetv   \\n@knewkeed all you need to know about social media week lagos 2016.\\n#acceleratetv via @acceleratetv   \\n@knewkeed all you need to know about social media week lagos 2016.\\n#acceleratetv via @acceleratetv   \\n@knewkeed all you need to know about social media week lagos 2016.\\n#acceleratetv via @acceleratetv   \\n@knewkeed all you need to know about social media week lagos 2016.\\n#acceleratetv via @acceleratetv   \\n@knewkeed all you need to know about social media week lagos 2016.\\n#acceleratetv via @acceleratetv   \\n@knewkeed all you need to know about social media week lagos 2016.\\n#acceleratetv via @acceleratetv   \\n@knewkeed all you need to know about social media week lagos 2016.\\n#acceleratetv via @acceleratetv   \\n@knewkeed all you need to know about social media week lagos 2016.\\n#acceleratetv via @acceleratetv   \\n@knewkeed all you need to know about social media week lagos 2016.\\n#acceleratetv via @acceleratetv   \\n@knewkeed all you need to know about social media week lagos 2016.\\n#acceleratetv via @acceleratetv   \\n@knewkeed all you need to know about social media week lagos 2016.\\n#acceleratetv via @acceleratetv   \\n@knewkeed all you need to know about social media week lagos 2016.\\n#acceleratetv via @acceleratetv   \\nare you really seeing all that\\'s happening at #smwnyc ? get   why miss a anything on social? \\nthanks @hootsuite @liftmetrix for having me #smwheroes #smwnyc  \\n@pulseghana komla dumor award bbc launches second edition at social media week in lagos m&gt;  \\nso much learn new things today. after social media week first class, and now #lunchwithtwitter exited!\\naka this is my dream list of where i\\'d like to physically be @carorabinovich #smwnyc \\nmost excited for #smwspeakbeautiful @zephoria @styleit @tdufu @kirstinestewa@anuncommonmom @upworthy wednesday! @smwnyc #smwnyc\\nhey, now i\\'m in predator cube at social media week jakarta and i\\'m ready to unleash the beast #acerpredatorsmw #smwjakarta\\n@heyassante your boo ryan leslie is giving a talk during social media week on thurs in nyc \\n@summeranne @catrachelcat @smwnyc i wish i could make it! by any chance, are you gals going to share your powerpoint afterwards?\\n@ujuunwa my essentials for #smwlagos2016.  @smwlagos  \\nsocial media week jakarta - strategy and tactics digital marketing for ukm and startup \\n@pulsenigeria247 #pulseevents #smwlagos\\nphotos from day 2 of the social media week - creative convos the business of design \\n@brandieclaborn in honor of social media week, check out my #clabornweekly #communications tip the abcs of social media. #smw16 \\n@mmctweets \"what people care about is the experience- that\\'s what brings them back\" -@ekaterina #smwnyc\\n@mmctweets \"what people care about is the experience- that\\'s what brings them back\" -@ekaterina #smwnyc\\nbca dukung social media week 2016 \\n@wera mark thompson ceo de @nytimes en la social media week -&gt; toda la info en @agenciaflowmx \\nsocial media week hamburg #smwhh @pinterest erfolgreich nutzen #sketchnote #sketchnotesbydiana #visualnotes #applepencil #ipadpro @fiftythr\\ngestern auf der social media week hamburg\\n\\n@micedacademy #sichtbar werden mit #handyfoto #sketchnote @smweek #visuellekonzepte\\n#sketchnotes\\n@smwjakarta grab your masterclass solo pass now! #smwjakarta #smw16  \\nhey, now i\\'m in predator cube at social media week jakarta and i\\'m ready to unleash the beast #acerpredatorsmw #smwjakarta\\nvery attentive crowd--- #smwnyc #smwinnov8tiv ~~~~~~~~~~~~~~~~~~~~~~~~~~~~~\\n#repost @networqapp\\n +++++++++++++++ \\nbca dukung social media week 2016 \\nbca dukung social media week 2016 \\nbca dukung social media week 2016 \\n5 things that need your focus when creating effective calls-to-action - social media week -  \\nat social media week 2016  \\n@pulsenigeria247 #pulseevents #smwlagos\\nphotos from day 2 of the social media week - creative convos the business of design \\n@pulsenigeria247 #pulseevents #smwlagos\\nphotos from day 2 of the social media week - creative convos the business of design \\n@kahshanna peer to peer social influencer models to drive a winning #corporate #brand/#agency. #smwnyc #disruptsocialsmw \\n@anieakpe very attentive crowd--- #smwnyc #smwinnov8tiv ~~~~~~~~~~~~~~~~~~~~~~~~~~~~~\\n#repost @netwo  \\n@jackiesbuzz woohoo! how excited are we! @dctweetbounce @socialarchitec_ named #numberone must attend #smwnyc #disruptsocialsmw \\n@nasdaq #smwnyc coming up at the drive that people use to separate people and im not talking about life\\nvery attentive crowd--- #smwnyc #smwinnov8tiv ~~~~~~~~~~~~~~~~~~~~~~~~~~~~~\\n#repost @netwo  \\n@prsatactics 70% of snapchat users are women. 71% are 21 or younger. 18-35 demo seeing huge growth now. 6% of brands are active on sc @\\n@bizguidebca social media week 2016 jakarta conference sudah dimulai! @smwjakarta #smwjakarta \\n social media week spinlet to host 2 special music events  #socialmedia \\n@joelrrenner @iammrsid @karimacatherine @wavertb they actually let you in? #smwnyc\\n@tweetchat join the #smwnyc hashtag community on #tweetchat. the best way to follow the conversations  \\nsocial media week spinlet to host 2 special music events  #socialmedia  #storystream\\nsocial media week spinlet to host 2 special music events  #socialmedia\\nsocial media week spinlet to host 2 special music events  #socialmedia #bisoftware\\nsocial media week spinlet to host 2 special music events  #storystream\\nsocial media week spinlet to host 2 special music events \\nsocial media week spinlet to host 2 special music events \\nsocial media week spinlet to host 2 special music events  #socialmedia #storystream\\nsocial media week spinlet to host 2 special music events  #prnews\\nsocial media week spinlet to host 2 special music events  #socialmedia\\n@smwnyc \"50% of customers are more likely to buy a product from a company they can contact on social.\" @synthesio #smwchimpery (via @co\\n@st3phart \"neuromarketing\" is becoming a much stronger and more relevant trend - social m... | @scoopit via @andreaschriscy \\n@laurencirkot snapchat you have the option to click, thus not bombarded. instagram you are forced to see it. #smwnyc \\nget up early people and hit the sky!  #smwnyc @nyonair @flynyon \\nsocial media week jakarta 2016 resmi dibuka oleh @triawan @antonnyliem #smwjakarta #smw16 \\nsweet squad shot of #smwnyc past...closing party 2012 via @timehop @ angel orensanz center \\n@popeishope they  learning about @ popeishope and #goodiswinning #popemoji campaign.  a smash hit at #smwnyc today \\nsocial media week spinlet to host 2 special music events  #allcompanynews\\nsocial media week spinlet to host 2 special music events \\ntriawan munaf, chairman indonesian creative economy, kicking off social media week  \\n@picsartstudio #newyork! we will be hosting a #photography masterclass at #smwnyc this thursday. details  \\n@digiday get the skinny on how jp morgan, politico and doner do content marketing at the timescenter tomorrow  #\\nsocial media week jakarta 2016 resmi dibuka oleh @triawan @antonnyliem #smwjakarta #smw16 \\n@emilyinyc what events are you going to tomorrow? #smwnyc\\nchirpified social media week jakarta 2016 resmi dibuka oleh @triawan @antonnyliem #smwjakarta #smw16 \\nsocial media week spinlet to host 2 special music events \\n@mmctweets \"it doesn\\'t hubrands to say \\'you know what, we\\'re not perfect\\'\" -@rbinhammer #smwnyc \\n@zignallabs from #smwfacebook to #smwsnapchat, smw hashtags are dominating the hashtag conversation at #smwnyc \\n@aimeebev11 stop by the @zignallabs co-working lounge for a chance to win a trip to san francisco! #smwnyc \\n@zignallabs what\\'s trending in #emoji today at #smwnyc? @snapchat ghosts  and t-shigiveaways  \\n@zignallabs #smwnyc attendees! stop by the @zignallabs co-working lounge & drop off your business card for a \\nsocial media week 2016 (with fabiola, irma, and muhammad at the hall)  \\n@emilyinyc aww man how cool. thanks @zignallabs! #smwnyc \\n@zignallabs top authors this afternoon at #smwnyc? @groupiecam, followed by @cbarrows , @emilyinyc & @corriedavidson \\n@sindotrijayafm pembukaan social media week jakarta oleh triawan munaf, head of indonesia creative economy agency @smwjakarta \\n@socialmediaweek @angelacleaver hi angela. can you dm @smwnyc with the current email address on your smw account? let\\'s get this resolv\\ntriawan munaf, chairman indonesian creative economy, kicking off social media week jakarta \\n@bekrafid kepala bekraf secara resmi meluncurkan biima, aplikasi info hki pertama di indonesia, di acara social media week \\n@canadany it\\'s #smwnyc week and we\\'re just 118 followers away from hitting our 5k goal help us by rting this post! \\ntransparency and trust \\n#latestnews social media week spinlet to host 2 special music events\\nsocial media week spinlet to host 2 special music events \\n@summeranne if you\\'re doing #smwnyc come see me and @catrachelcat, two lovable hufflepuffs! \\nnews social media week spinlet to host 2 special music events  #enocomingsoon\\nif you\\'re doing #smwnyc come see me and @catrachelcat, two lovable hufflepuffs! \\nmade it to the #smwnyc list  right behind you @emilyinyc  \\n@medialabpete look who made today\\'s -&gt; #smwnyc interactive social audience repo #smw16 \\n@abdulkarim end of day 1 at #smwnyc! great talks and more rain to come on day 2! \\n@tobyd @smwnyc received! \\neveryone going to the #smwnyc closing party?? \\n@thomaskernan @smwnyc and now?\\n@scottroen thanks @tobyd for the invite to hang at samsung\\'s 837 tonight.  glad i didn\\'t stay home and just vr it #smwnyc \\n#smwnyc during the day, #livingfabulosa in the evening -\\ntoday was a full but extremely productive day! \\n@stellamarismua this is happening next week! ngeeshow eniolatito and i will be hosting the social media week \\n@tweetingtdott hey! did you go to social media week this year?\\nsocial media week spinlet to host 2 special music events -  \\nsocial media week spinlet to host 2 special music events.  \\ndibuka dibuka.. (at social media week)  \\n@cbarrows the top words used (thus far) at #smwnyc (via @zoomph) \\n@charlybuxx live stream alert!!! #smwinnov8tiv #smwnyc \\n@nymediacenter .@j_lancaster of @decodedco gave an awesome talk about #opendata #api and #machinelearning at #smwnyc today! \\n@thebcgnyc thanks @innov8tivmag @anieakpe for eye opening event on working with emerging markets. #smwnyc #smw16 \\n@thebcgnyc thanks. panel is inspiring.  @techceo @kreativewaves @globalmogulto\\n\"@ituxb @anieakpe @thebcgnyc @misstiffsays thanks great\\n@thebcgnyc culture & government. if you don\\'t know the culture, you\\'re going to automatically fail - @anieakpe #smwinnov8tiv #smwnyc #t\\n@ituxb @anieakpe @thebcgnyc @misstiffsays thanks great event #smwnyc\\nsocial media week (at @senayancity)  \\n@ituxb @globalmogulto tenacity #smwnyc @anieakpe\\n@ituxb @techceo service mentality and patience... #smwnyc @anieakpe\\n@ituxb listening to @anieakpe @globalmogulto @kreativewaves @coders4africa @techceo #smwnyc lots of #nuggets\\n@adaptly how do facebook & instagram coexist? join adaptly, viacom & nasdaq at social media week to see  feb. 25 at 1:00. \\n@ituxb listening to @anieakpe @globalmogulto @kreativewaves @coders4africa @techceo #smwnyc lots of #nuggets\\n@ituxb @techceo service mentality and patience... #smwnyc @anieakpe\\n@ituxb @globalmogulto tenacity #smwnyc @anieakpe\\nkepala bekraf secara resmi meluncurkan biima, aplikasi info hki pertama di indonesia, di acara social media week \\n@ituxb @anieakpe @thebcgnyc @misstiffsays thanks great event #smwnyc\\n@thebcgnyc culture & government. if you don\\'t know the culture, you\\'re going to automatically fail - @anieakpe #smwinnov8tiv #smwnyc #t\\n@thebcgnyc thanks. panel is inspiring.  @techceo @kreativewaves @globalmogulto\\n\"@ituxb @anieakpe @thebcgnyc @misstiffsays thanks great\\nhey, now i\\'m in predator cube at social media week jakarta and i\\'m ready to unleash the beast #acerpredatorsmw #smwjakarta\\npembukaan social media week jakarta oleh triawan munaf, head of indonesia creative  \\nsocial media week jakarta (at @senayancity)  \\n@bekrafid kepala bekraf secara resmi membuka acara \"social media week\" hari ini di senayan city, jakarta \\nrt  rt  social media week jakarta - strategy and tactics digital \\n@katieeperry #smwnyc tomo am catch @crowdtap @ricolausa @absolutvodka & more on stage @ sva theatre, 9am \\nmajalah noor sedang berada di social media week jakarta 2016. \\nevent ini dibuka langsung oleh \\nstill wowed by today\\'s social media conference and all the great tips. thank you #smwdecoded #smwnyc\\n@marykearl we as human beings are biased towards gut, not data; we have emotional reactions to info, says @kcwl #smwdatavsgut #smwnyc @\\n@liftmetrix amen to that! | \"today we can actually say that social media is attributable\" @_jmccaff #smwnyc #smwheroes\\n@thebcgnyc thanks @innov8tivmag @anieakpe for eye opening event on working with emerging markets. #smwnyc #smw16 \\nmeasady social media week jakarta - strategy and tactics digital marketing for ukm and startup - \\nimpressive response rate! city of rotterdam answers questions within 2 hours on social media #smwnyc \\n@alyse_michelle \"make your place. be the change you want to see. do more than the bare minimum.\" @aliahpr on advancing your career in s\\ni need everyone at #smwnyc to help me celebrate my birthday tomorrow.  #smwbdayboy\\n@murdershetwote social listening isn\\'t always the answer. some answers aren\\'t on social. @matthewzito spouting some realness at #smwnyc\\nthe top words used (thus far) at #smwnyc (via @zoomph) \\n@cogentoa discover how #socialmedia impact our lives. read the latest research for #free   #smwny \\nsocial media week @ hall lt 8 senayan city... silahkan yang mau hadir.. \\n@mattbologna inspired by the women on our @shareablee #smwwimlink panel at #smwnyc! #socialmedia \\nkepala bekraf secara resmi membuka acara \"social media week\" hari ini di senayan city, jakarta \\n@gg_advisors mark thompson, @nytimes \"we stand for storytelling, showing we\\'re prepared to innovate and take risks.\" #smwnyc \\n@charlybuxx live stream alert!!! #smwinnov8tiv #smwnyc \\n@simplymeasured #smwnyc, here\\'s how to tie your social activity to the buyer\\'s journey, kpis & biz impact  \\n@ibomllc \"when it comes to partnerships, in emerging markets...get your cut upfront\" @globalmogulto #smwinnov8tiv #smwnyc #tech #growth\\nsocial media week 2016 - jakarta. live for @chirpstory. \\n\\n#smw16 #smwjakarta #chirpstory \\nrt  social media week jakarta - strategy and tactics digital marketing for ukm and startu \\n@sindotrijayafm pembukaan social media week jakarta oleh triawan munaf, head of indonesia creative economy agency @smwjakarta \\nsocial media week jakarta - strategy and tactics digital marketing for ukm and startup - \\nopening social media week jakarta 2016 - antonny liem & triawan munaf-\\n#smwjakarta2016 (at @senayancity) [pic]  \\n@binmul2308 so excited to be at social media week jakarta #smwjakarta \\n@oneqube we hope you enjoy today\\'s -&gt; #smwnyc interactive social audience repo #smw16 \\npembukaan social media week jakarta oleh triawan munaf, head of indonesia creative economy agency @smwjakarta \\n@mste \"if #socialportratis was a filter, i\\'d take more selfies\" 010 aimie #sociala#smwnyc  \\npak triawan munaf, head indonesia creative economy agency membuka social media week jakarta 2016. #smwjakarta #smw16 \\nso excited to be at social media week jakarta #smwjakarta \\n#social media week jakarta 2016\\nayo ikuti kuis berhadiah tiket #smwjakarta senilai jutaan rupiah di sini #beritagarkuis  \\n@cnbcsocial at #smwnyc facebook\\'s @mklein_nyc evokes darwin it is not the strongest...that survives...it is the one that is most adapt\\n@forbespr .@edwkim @pierreloic @annmarinovich discuss how data & analytics can transform native advertising #smwnyc @forbes \\n@ujuunwa my essentials for #smwlagos2016.  @smwlagos  \\nhey, now i\\'m in predator cube at social media week jakarta and i\\'m ready to unleash the beast #acerpredatorsmw #smwjakarta\\n@profjoycesull #paf3201s16 click on this link w #smwnyc hashtag included enjoy the #socialmedia wisdom!   \\n@youngrubicam we have more subscribers today than we did as a print newspaper. - @nytimes ceo mark thompson #smwnyc\\n@ottogrl officially @snapchat famous with this being featured in the official nyc story  #smwnyc \\ncongrats @misstiffsays on your first panel. moving from behind the scenes to the star that you are. #smwnyc #smw16  \\n@bizguidebca social media week 2016 jakarta conference sudah dimulai! @smwjakarta #smwjakarta \\n@oliviaisenhart \"we should spend less time creating content that we think is interesting and more time creating something valuable.\" #s\\n@madslinker facebook autoplay video was first inspired by the harry potter daily prophet immersive content experience. #smwnyc \\n@corrietweets #smwnyc there are a lot of people at this event drunk on their own koolaid.\\n@simplymeasured #smwnyc, here\\'s how to tie your social activity to the buyer\\'s journey, kpis & biz impact  \\n@hannah_herreid the bravest pieces are the ones that perform the best. #smwnyt #smwnyc @nytimes #content #marketing \\nsocial media week 2016 jakarta conference sudah dimulai! @smwjakarta #smwjakarta \\nsocial media week 2016  #coretcoretangw #coretanpromo #smwjakarta #blibli\\nopening n formal kick off social media week jakarta 2016 #smwjakarta \\n@jerinnow serendipity seeing @shethinx ads on @mta hours after inspiring #feminist talk by @twinmiki for #smwnyc \\nsocial media week jakarta (with wids, septian, and 3 others at the hall) [pic]  \\nopening n formal kick off social media week jakarta 2016 #smwjakarta #onduty (at @senayancity) [pic]  \\nsocial media week (with lyssa, firda, and maloni at @senayancity) [pic]  \\nlovetek social media week jakarta - strategy and tactics digital marketing for ukm and startup - \\n@socialmediaweek @angelacleaver hi angela. can you dm @smwnyc with the current email address on your smw account? let\\'s get this resolv\\nsocial media week 2016, anyone? #smwjakarta #smw16 (at @senayancity) [pic]  \\n@dctweetbounce #smwsnapchat #smwnyc we strategically use @snapchat w/ #influencers @nasdaq panel @wsj @mtv @machiz @adenatfriedman \\n@dctweetbounce #smwsnapchat #smwnyc we strategically use @snapchat w/ #influencers @nasdaq panel @wsj @mtv @machiz @adenatfriedman \\nmenambah nutrisi tuk profesi. day 1st social media week #smwjakarta (with idham at the hall senayan city)  \\n@liputan6dotcom social media week 2016 fokus ke perkembangan teknologi indonesia  \\n@alexmyers you over here for #smwnyc? also, screw this sleet rain\\none week, four cities worldwide - social media week is in full swing, and me and #fitches \\n@mi_abaga come learn about social media and music at the 2016 edition of the social media week hosted by @spinlet . \\nsocial media week jakarta - strategy and tactics digital marketing for ukm and startup - \\nwhat a day that was. #smwnyc, we will see you tomorrow starting at the sva\\n@popeishope we hear people like the #popemoji swag from @kathleenhessert\\'s #smwnyc talk. retweet for a chance to win this  \\n@heatherataylor comedy used to more observational. now it\\'s much more about yourself, and due mostly because of social media & ability \\nsocial media week jakarta 2016 (at @senayancity)  \\n@smwnyc \"netflix bought @houseofcards & hired @kevinspacey w/ machine learning and customer data. they had a hit before day 1\" @j_lanca\\n@ottogrl officially @snapchat famous with this being featured in the official nyc story  #smwnyc \\nexcited for social media week!\\n@brandwatch brandwatch is proud to be the official social media monitoring sponsor of #smwnyc -  \\n@picsartstudio #newyork! we will be hosting a #photography masterclass at #smwnyc this thursday. details  \\n@viacom .@mtvs @sarahfromthewww on all things @snapchat at #smwnyc #smwsnapchat \\n@iamowenrogers quick question for @kunalmerchant can u do something with @himanshu on a music x social campaign #smwheroes #smwnyc\\n@knbstokes \"your brand has to take a stand. be real, be authentic be transparent and you will be successful.\" - @dricheson #smwnyc #smw\\n@laurenludlow1 great tip from @dricheson social listening is real time everything, it\\'s how you engage in the path to advocacy #smwnyc\\n@liftmetrix amen to that! | \"today we can actually say that social media is attributable\" @_jmccaff #smwnyc #smwheroes\\n@digiday get the skinny on how jp morgan, politico and doner do content marketing at the timescenter tomorrow  #\\nsocial media week 2016 is here !\\n.\\nfind #allnewsoursally in bekraf area starting from 24 - 26 \\n@mmctweets \"it doesn\\'t hubrands to say \\'you know what, we\\'re not perfect\\'\" -@rbinhammer #smwnyc \\n@aminnordin7 msmw - malaysia social media week | 7-13 mac 2016 | kuala lumpur #msmw2016 \\n@knbstokes \"your brand has to take a stand. be real, be authentic be transparent and you will be successful.\" - @dricheson #smwnyc #smw\\nmsmw - malaysia social media week | 7-13 mac 2016 | kuala lumpur #msmw2016 \\n@laurenludlow1 great tip from @dricheson social listening is real time everything, it\\'s how you engage in the path to advocacy #smwnyc\\nmalaysia social media week 2016. coming this march! \\n#msmw2016\\nglad you thought so  @mlletravelista -  and thanks for joining us at #smwnyc! \\n@flightpathny a/b testing is key. @betsyfast trusted her gut with 2 different headlines for @seventeen & it worked! #smwnyc \\n@belbey always enjoy attending social media week #smw #smwheroes @ amazon aws loft \\nthe key for news outlets is finding the right platform to reach the next generation with an organic voice #smwnyc @samanthabarry @cnn\\n@mmctweets \"segment your audiences and engage the 1% of advocates they\\'ll bring your customers for free\" -@ekaterina #smwnyc \\n@gusrazzetti just 31% of consumers think that companies are transparent enough   #transparency matters\\ngreat session on @snapchat at #smwnyc this morning \\n@tarajane_lewis patience. curiosity. experimentation. fearlessness #smwnyc advancing women leadership in social media @shareablee \\n#smwnyc tomo am catch @crowdtap @ricolausa @absolutvodka & more on stage @ sva theatre, 9am \\nat social media week  \\n@johnnymatson .@j_lancaster of @decodedco crushed it earlier on #opendata #api and #machinelearning at #smwnyc nice meeting you! \\n.@j_lancaster of @decodedco crushed it earlier on #opendata #api and #machinelearning at #smwnyc nice meeting you! \\nrt  social media week jakarta - strategy and tactics #digitalmarketing for ukm and startup \\nholy heroes batman #smwheroes #smwnyc @liftmetrix @hootcommunity @smwnyc \\n@noellehfreeman \"create content worth paying for\" @tobyd @nytimes #socialmedia #smwnyc #smwnyt \\nloved hearing from @aapilolli @aliahpr @edlynne and keiko sutton at #smwwimlink tonight! #womenwhoinspire #smwnyc\\npublishers building dozens of niche @facebook pages in order to please algorithms  #smwnyc\\n@picsartstudio #newyork! we will be hosting a #photography masterclass at #smwnyc this thursday. details  \\n #smwheroes chat at #smwnyc. shoutout to @hootsuite and @liftmetrix for the  & for picking my question 4 #swagbag \\n#newyork! we will be hosting a #photography masterclass at #smwnyc this thursday. details  \\nsocial media week jakarta - strategy and tactics #digitalmarketing for ukm and startup \\nfun when i couldn\\'t make it this morn made it into this #lmhqwomensbreakfast roundup! @shethinx for #smwnyc  \\n@emilyinyc \"everything is mobile. everything is digital. everything is social.\" @_jmccaff #smwheroes #smwnyc\\n@emilyinyc \"to be everywhere is to be nowhere.\" @_jmccaff #smwnyc #smwheroes\\n@mediamktgguy enjoying all the posts from @smwnyc. look forward to talking @comedycentral tomorrow at 1:30. who\\'s coming? #smwnyc \\n@kathleenhessert glad to know i contributed to the buzz #smwnyc thx to all who contributed to my session on #popemoji & #millennials ht\\n@oliviaisenhart \"we should spend less time creating content that we think is interesting and more time creating something valuable.\" #s\\n@arabellacm \"to create value, you need to have a clear point of view of how you can bring value to something.\" clarity of pov is so imp\\n@medialabpete look who made today\\'s -&gt; #smwnyc interactive social audience repo #smw16 \\n@ochww social media measurement standards should be universal across brands for truly relevant data #smwnyc #ogilvysmw @pfasano\\nshap  ro. @danharmon i expect you to fix that in post. #smwnyc  \\n@kathleenhessert glad to know i contributed to the buzz #smwnyc thx to all who contributed to my session on #popemoji & #millennials ht\\n@saroct #authenticity on #socialmedia is key. - @kunalmerchant  #smwheroes #smwnyc\\n@kathleenhessert glad to know i contributed to the buzz #smwnyc thx to all who contributed to my session on #popemoji & #millennials ht\\n@adaptly excited for #smwnyc thurs:\\n10:30am-@seanonyc @mike_akka @bmagida\\n1pm-@ruthyarbs @machiz @krisrolla @jessicasherrets \\n\\n@iamnikkistrong \"make sure yr product is on point before your social media is. a gr8 marketing plan can\\'t make up for a lousy product\" \\n@socialarchitec_ #decodingsocial w @google @aposner our @dctweetbounce at @nasdaq 25th #disruptsocialsmw #smwnyc @machiz @interbrand ht\\n@kathleenhessert glad to know i contributed to the buzz #smwnyc thx to all who contributed to my session on #popemoji & #millennials ht\\nthanks @tobyd for the invite to hang at samsung\\'s 837 tonight.  glad i didn\\'t stay home and just vr it #smwnyc \\n@kathleenhessert glad to know i contributed to the buzz #smwnyc thx to all who contributed to my session on #popemoji & #millennials ht\\n@annamariasocial thank you for including me in your #smwnyc community.\\n\"ring the bell!\" i hit 1000 followers on twitter today, thank-you! stick around for more insights & tips from #smwnyc #hootsmw\\n@socialarchitec_ #decodingsocial w @google @aposner our @dctweetbounce at @nasdaq 25th #disruptsocialsmw #smwnyc @machiz @interbrand ht\\n@smwnyc thank you @heineken_us and @josecuervo for keeping our thirst quenched this week here at #smwnyc.\\n@smwnyc thank you @heineken_us and @josecuervo for keeping our thirst quenched this week here at #smwnyc.\\nthank you @heineken_us and @josecuervo for keeping our thirst quenched this week here at #smwnyc.\\n@ottogrl officially @snapchat famous with this being featured in the official nyc story  #smwnyc \\n@kathleenhessert listen deeply, ensure relevant data & expertise 2glean valued insights ur campaign has a chance @tracx #smwnyc  \\nthe transformation of native advertising ft. @pierreloic #smwnyc @socialmediaweek  \\n@mcguire_kat amazing hootsuite event tonight talking social for good! feeling proud #smwheroes #smwnyc \\n@misstiffsays it\\'s showtime! looking 4ward to hosting w/ @anieakpe @techceo @globalmogulto @kreativewaves tonight! #smwnyc #tech \\n@kathleenhessert listen deeply, ensure relevant data & expertise 2glean valued insights ur campaign has a chance @tracx #smwnyc  \\ngreat talks today! @mariapilarcasal can\\'t wait to see what tomorrow brings #smwnyc\\n@alyse_michelle \"your network is your net worth.\"  @aliahpr #smwnyc @smwnyc\\n@thebcgnyc thanks. panel is inspiring.  @techceo @kreativewaves @globalmogulto\\n\"@ituxb @anieakpe @thebcgnyc @misstiffsays thanks great\\nofficially @snapchat famous with this being featured in the official nyc story  #smwnyc \\nwith my mind on my social and my social on my mind!#smwnyc #smw16 #samsung837 \\njamiroquai? come in, jamiroquai! #virtualreality #virtualinsanity #smwnyc @ samsung - 837 \\nloved hearing from @aapilolli @aliahpr @edlynne and keiko sutton tonight at #smwwimlink tonight! #womenwhoinspire #smwnyc\\n@mlletravelista @minaseeth @bbasney @mgpezz @tonia_ries amanda rubin @theeconomist thank you for an inspiring chat today! #smwnyc.\\nat #smwnyc this is the entertainment. @samsungtweets bringing vr in 4d \\n@minaseeth @bbasney @mgpezz @tonia_ries amanda rubin @theeconomist thank you for an inspiring chat today! #smwnyc.\\n@mca923 \"let yourself go on @snapchat, be an editor on @instagram\" -@joyannking of @harpersbazaarus #smwdatavsgut #smwnyc\\n@medialabpete look who made today\\'s -&gt; #smwnyc interactive social audience repo #smw16 \\n@oneqube we hope you enjoy today\\'s -&gt; #smwnyc interactive social audience repo #smw16 \\n@itsemt @thisiscoll speaking on the power of #socialmedia for #socialgood! #smwheroes #smwnyc @red \\namazing hootsuite event tonight talking social for good! feeling proud #smwheroes #smwnyc \\nwednesday at #smwnyc, @comedycentral\\'s cmo, walter levitt (@mediamktgguy) will keynote \\n@triciaviola enjoy the rest of your #smwnyc ;)\\n@susanborst @annmarinovich enjoy the rest of #smwnyc :)\\nchecking out the new @samsung #837lab in ny. the roller coaster vr experience is crazy! #smwnyc \\nthanks @innov8tivmag @anieakpe for eye opening event on working with emerging markets. #smwnyc #smw16 \\nrealizing that i never received and invite for the @smwnyc closing party on friday...concerned... #smwnyc\\n@itsemt \"social 3.0 is deliberate, targeted & attributed\" -@_jmccaff #smwheroes #smwnyc #socialmedia #conference \\nwham!  #photobooth at the #smwheroes #panel! #smwnyc #socialmedia #smw #nyc @hootsuite @liftmetrix #superhero \\nso sorry i didn\\'t get to see you @bbasney . you\\'ll have to catch me up on all the #smwnyc hub-bub!\\n@kerrymflynn .@wsj is not about puking rainbows, but they do love snapchat and so do @mtv, @vaynermedia, @americanair \\n#smwnyc 1st day know your social media, know your public. every platform has its own identity. \\n@simplymeasured #smwnyc, here\\'s how to tie your social activity to the buyer\\'s journey, kpis & biz impact  \\n@womma thanks for the shoutout!! we\\'re excited for thursday and hope you all can make it :-) #smwnyc\\ngreat #smwnyc reception @uktinewyork fab presentation from @inspired_mobile @itajaipraticos \\n@oneqube we hope you enjoy today\\'s -&gt; #smwnyc interactive social audience repo #smw16 \\n#smwnyc 1st data and analysis are key in native advertising. great opportunities for extra value. \\n@nymediacenter .@j_lancaster of @decodedco gave an awesome talk about #opendata #api and #machinelearning at #smwnyc today! \\n@jen_charlton \"a country is not a product but it is a brand\" @nlinny #publicdiplomacy officer @ #smwrdam #smwnyc #digitaldiplomacy \\n@hearstcorp heading to #smwnyc? don\\'t miss @kcwl @betsyfast @joannasaltz & @joyannking talking #data vs. #gut tomorrow @ 3pm \\n#smwnyc 1st day how the pope uses social media to engage to a new public and millennials specific. great campaign! \\n@alimercier another panel full of smaladies? i\\'ll take it. #smwnyc #smweconomist \\n@lily_rau how can sm cause social change? \"when 3 mil people take a single action on the same day, the world notices.\" -@thisiscoll #sm\\nfascinating #smwnyc panel on emerging markets, particularly technology in africa, tonight.\\n@hashtagvoa we are live on @hasthtagvoa with @apal @iamnikkistrong  & @tinatrinhnyc and @edwinendlich ! covering the latest on #smwnyc !\\n@hashtagvoa \"people are really networking, connecting and are here to learn @iamnikkistrong @apal\\n#smwnyc\\n@womma #smwnyc suggestion thurs 10a session w/womma member @brandwatch\\'s @kauten311 & @brittyferg \\n@heatherataylor there is always a brand halo effect. remember, some stages are classier than others... @tonia_ries @minaseeth #smwnyc #\\n@michael_lipin .@iamnikkistrong at #smwnyc, people are having lots of personal interactions & networking rather than just typing up tw\\n@adaptly excited for #smwnyc thurs:\\n10:30am-@seanonyc @mike_akka @bmagida\\n1pm-@ruthyarbs @machiz @krisrolla @jessicasherrets \\n\\n@smwnyc \"there are so many moments during the customer lifecycle that separates one from the other, and you must analyze them\" - @simon\\n@bridget_b_evans at the risk of over-tweeting my boundaries, if i brought delicious coffees could i quickly see vm offices between #smwnyc ?\\ngreat quote from @bbasney at #smwnyc #smweconomist  \\n@nymediacenter .@j_lancaster of @decodedco gave an awesome talk about #opendata #api and #machinelearning at #smwnyc today! \\n#demtownhall \\n#chocolatemilk \\nfrancis (#goodiswinning)  from #smwnyc #smwtracx \\n@kasiakarolak_ panelists @rbinhammer @dricheson @ekaterina and @scottmonty at data! insight! action!  #smwnyc  #socialmediaweek \\n@mmctweets we\\'re live from social media week at mmc! #smwnyc \\n@laurenludlow1 great tip from @dricheson social listening is real time everything, it\\'s how you engage in the path to advocacy #smwnyc\\n@samarafinn haha thank you! :) lucky to have a job i am passionate about #smwnyc\\n@alyhaygs data&gt;insights&gt;action! @ekaterina @rbinhammer @scottmonty & our own @dricheson on really real-time #smwnyc @mmctweets \\n@blissfulmediagr we\\'re at @mmctweets tonight for #smwnyc listening to @dricheson @ekaterina @scottmonty & @rbinhammer. \\nday 2 of #smwnyc success\\n@mmctweets \"that\\'s what it goes back to- data\" -@ekaterina #smwnyc \\n@bobmckee617 there is a lot of #passion on this data insight action panel. @dricheson is doing a nice job getting these opinions flowin\\n@mmctweets \"it\\'s all how you make people feel\" -@ekaterina #smwnyc \\n@samarafinn real-time is also critical when crisis hits. good point @dricheson #smwatmmc #smwnyc\\n@bobmckee617 i love hearing @dricheson ask panel about #prcrisis - this is an area where @zignallabs absolutely excels. in my opinion. \\n@mmctweets \"it doesn\\'t hubrands to say \\'you know what, we\\'re not perfect\\'\" -@rbinhammer #smwnyc \\n@alianagalan what does your brand stand for? @dricheson @ekaterina @rbinhammer @scottmonty @socialmediaweek #smwnyc\\n@knbstokes \"your brand has to take a stand. be real, be authentic be transparent and you will be successful.\" - @dricheson #smwnyc #smw\\n@mmctweets \"segment your audiences and engage the 1% of advocates they\\'ll bring your customers for free\" -@ekaterina #smwnyc \\n@iamnikkistrong \"old school messaging doesn\\'t work anymore. brands must be authentic, have an opinion, take a stand\" - @dricheson #smwn\\n@mmctweets that\\'s a wrap! thank you for attending our #smwnyc panel! @dricheson @scottmonty @rbinhammer @ekaterina \\n@megtoconnor \"the human brain processes images 60,000x faster than words. that\\'s behind the rise of @instagram.\" - @mklein_nyc #smwface\\n@glorelysmoraliz i really enjoyed @kunalmerchant\\'s presentation (format + content). i think it was better than the actual #tlop album. \\nthanks. panel is inspiring.  @techceo @kreativewaves @globalmogulto\\n\"@ituxb @anieakpe @thebcgnyc @misstiffsays thanks great event #smwnyc\"\\nall female panel following another  #smwnyc #smweconomist \\nhad to snap a pic before the rain messed it up  off to more #smwnyc events! @ new york, \\n@mmctweets that\\'s a wrap! thank you for attending our #smwnyc panel! @dricheson @scottmonty @rbinhammer @ekaterina \\n@mmctweets \"segment your audiences and engage the 1% of advocates they\\'ll bring your customers for free\" -@ekaterina #smwnyc \\n@peterdonarski great meeting you! @sasfny #happyhour will be at @thewinslownyc on thurs feb 25 @ 6:30! hope to see you there! #sasf #smwnyc\\n@mmctweets \"segment your audiences and engage the 1% of advocates they\\'ll bring your customers for free\" -@ekaterina #smwnyc \\nculture & government. if you don\\'t know the culture, you\\'re going to automatically fail - @anieakpe #smwinnov8tiv #smwnyc #tech #growth\\nlooking forward to this session on the best brands taking on snapchat #smwnyc \\n@adaptly excited for #smwnyc thurs:\\n10:30am-@seanonyc @mike_akka @bmagida\\n1pm-@ruthyarbs @machiz @krisrolla @jessicasherrets \\n\\ngood times tonight with the team at the #britishresidence in nyc. thank you for hosting!\\n#smwnyc \\n@hell0itslili don\\'t show people what they want. drive their thinking. inform them. #smwnyc #smweconomist \\n@oliviaisenhart \"we don\\'t have to be embarrassed about the fact that we\\'re a brand. we have permission to show up.\" -@tonia_ries #smwec\\n@anieakpe @thebcgnyc @misstiffsays thanks great event #smwnyc\\n@ogilvy if you\\'re at the #socialthatsells @ogilvyonenyc event #smwnyc \\n\\nthe digital social contract  \\n@thebcgnyc don\\'t try to get into the game, without knowing the rules. you will lose. - @globalmogulto #emergingmarkets #smwinnov8tiv #s\\n@globalmogulto tenacity #smwnyc @anieakpe\\n@simplymeasured #smwnyc, here\\'s how to tie your social activity to the buyer\\'s journey, kpis & biz impact  \\n@megtoconnor @amandalai @lrmann @ottogrl thanks for your shares today! #smwfacebook #smwnyc #smw2016\\n@hootcommunity tomorrow #hootsmw! learn social media tips for your small business @wework #smwnyc  \\n@techceo service mentality and patience... #smwnyc @anieakpe\\n@adaptly excited for #smwnyc thurs:\\n10:30am-@seanonyc @mike_akka @bmagida\\n1pm-@ruthyarbs @machiz @krisrolla @jessicasherrets \\n\\nbold (maybe) #prediction from @edlynne - one of the major #social networks is going to fail. which do you think it will be?!? #smwnyc\\n@oneqube we hope you enjoy today\\'s -&gt; #smwnyc interactive social audience repo #smw16 \\nwe\\'re so excited for it!! come join us at #smwnyc  \\n@ibomllc lights, camera, action! we\\'re live + live streaming, now &gt;&gt;&gt;  #smwinnov8tiv #smwnyc #tech \\n@smwnyc #smwnyc at the timescenter this morning \"the future of communication\" with @facebook\\'s michelle klein \\n@canadany we\\'re just 113 followers away from hitting our 5k goal help by rting this post! #smwnyc show us your twitter power! \\nlights, camera, action! we\\'re live + live streaming, now &gt;&gt;&gt;  #smwinnov8tiv #smwnyc #tech'"
      ]
     },
     "execution_count": 5,
     "metadata": {},
     "output_type": "execute_result"
    }
   ],
   "source": [
    "smw_tweet_text_all = smw_listener.get_recent_text(1000)\n",
    "smw_tweet_text_all"
   ]
  },
  {
   "cell_type": "code",
   "execution_count": 5,
   "metadata": {
    "collapsed": false
   },
   "outputs": [
    {
     "name": "stderr",
     "output_type": "stream",
     "text": [
      "WARNING:root:Database file corrupt or not found, using empty database\n",
      "WARNING:root:Database file corrupt or not found, using empty database\n",
      "WARNING:root:Database file corrupt or not found, using empty database\n",
      "WARNING:root:Database file corrupt or not found, using empty database\n"
     ]
    }
   ],
   "source": [
    "kanye_babbler = MarkovBabbler(yeezy_text)\n",
    "smw_program_babbler = MarkovBabbler(smw_program_text)\n",
    "smw_all_tweets_babbler = MarkovBabbler(smw_tweet_text_all)\n",
    "smw_recent_tweets_babbler = MarkovBabbler(smw_tweet_text_recent)\n",
    "\n",
    "seed_generators = [smw_program_babbler,\n",
    "                   smw_all_tweets_babbler,\n",
    "                   smw_recent_tweets_babbler]"
   ]
  },
  {
   "cell_type": "code",
   "execution_count": 4,
   "metadata": {
    "collapsed": false
   },
   "outputs": [
    {
     "ename": "NameError",
     "evalue": "name 'smw_all_tweets_babbler' is not defined",
     "output_type": "error",
     "traceback": [
      "\u001b[0;31m---------------------------------------------------------------------------\u001b[0m",
      "\u001b[0;31mNameError\u001b[0m                                 Traceback (most recent call last)",
      "\u001b[0;32m<ipython-input-4-039c82e69eb8>\u001b[0m in \u001b[0;36m<module>\u001b[0;34m()\u001b[0m\n\u001b[1;32m     10\u001b[0m         \u001b[0;32mreturn\u001b[0m \u001b[0mgenerate_text\u001b[0m\u001b[0;34m(\u001b[0m\u001b[0mseed_generator\u001b[0m\u001b[0;34m,\u001b[0m \u001b[0min_reply_to\u001b[0m\u001b[0;34m=\u001b[0m\u001b[0min_reply_to\u001b[0m\u001b[0;34m)\u001b[0m\u001b[0;34m\u001b[0m\u001b[0m\n\u001b[1;32m     11\u001b[0m \u001b[0;34m\u001b[0m\u001b[0m\n\u001b[0;32m---> 12\u001b[0;31m \u001b[0mgenerate_text\u001b[0m\u001b[0;34m(\u001b[0m\u001b[0msmw_all_tweets_babbler\u001b[0m\u001b[0;34m)\u001b[0m\u001b[0;34m\u001b[0m\u001b[0m\n\u001b[0m",
      "\u001b[0;31mNameError\u001b[0m: name 'smw_all_tweets_babbler' is not defined"
     ]
    }
   ],
   "source": [
    "def generate_text(seed_generator, in_reply_to=None):\n",
    "    try:\n",
    "        if in_reply_to:\n",
    "            seed = MarkovBabbler(in_reply_to.text).generate_seed()\n",
    "        else: \n",
    "            seed = seed_generator.generate_seed()\n",
    "        tweet_text = kanye_babbler.generate(seed=seed)\n",
    "        return tweet_text\n",
    "    except:\n",
    "        return generate_text(seed_generator, in_reply_to=in_reply_to)\n",
    "\n",
    "generate_text(smw_all_tweets_babbler)"
   ]
  },
  {
   "cell_type": "code",
   "execution_count": 87,
   "metadata": {
    "collapsed": false
   },
   "outputs": [
    {
     "data": {
      "text/plain": [
       "<twitter.status.Status at 0x1089d0910>"
      ]
     },
     "execution_count": 87,
     "metadata": {},
     "output_type": "execute_result"
    }
   ],
   "source": [
    "b = TwitterBot('production')\n",
    "b.tweet('Data scientists to do award shows for the people')"
   ]
  },
  {
   "cell_type": "code",
   "execution_count": 29,
   "metadata": {
    "collapsed": false
   },
   "outputs": [
    {
     "data": {
      "text/plain": [
       "'!\"#$%&\\'()*+,-./:;<=>?@[\\\\]^_`{|}~'"
      ]
     },
     "execution_count": 29,
     "metadata": {},
     "output_type": "execute_result"
    }
   ],
   "source": [
    "import string\n",
    "string.punctuation"
   ]
  },
  {
   "cell_type": "code",
   "execution_count": 14,
   "metadata": {
    "collapsed": false
   },
   "outputs": [
    {
     "data": {
      "text/plain": [
       "'you should overide this method'"
      ]
     },
     "execution_count": 14,
     "metadata": {},
     "output_type": "execute_result"
    }
   ],
   "source": [
    "def generate_kanye_text(in_reply_to=None):\n",
    "    if in_reply_to:\n",
    "        pass\n",
    "    else:\n",
    "        seed_text = smwtalkdescription_babbler\n",
    "        return kanye_babbler.generate()\n",
    "\n",
    "\n",
    "kanye.generate_text()"
   ]
  },
  {
   "cell_type": "code",
   "execution_count": 123,
   "metadata": {
    "collapsed": false
   },
   "outputs": [],
   "source": [
    "query = \"\"\"\n",
    "(#smwnyc OR \"social media\" OR \"twitter bots\" OR \"automation\" OR #SMWbots OR #SMWbots OR bot OR bots)\n",
    "\"\"\"\n",
    "tweets = kanye._api_client.GetSearch(query)"
   ]
  },
  {
   "cell_type": "code",
   "execution_count": 124,
   "metadata": {
    "collapsed": true
   },
   "outputs": [
    {
     "data": {
      "text/plain": [
       "[u'Social Media is a Hallucinogenic Drug.',\n",
       " u'Social media machine in action!\\ncc: @gauravcsawant @abhijitmajumder @AdityaRajKaul https://t.co/z2r8JLtOaF',\n",
       " u'Cristiano Ronaldo becomes the first athlete to exceed 200,000,000 social media followers: https://t.co/bRxu8GBUmU https://t.co/F8QBGX0rHU',\n",
       " u'@pengo_bot \\u3079\\u3001\\u3079\\u3064\\u306b\\u3042\\u3093\\u305f\\u306e\\u305f\\u3081\\u306b\\u624b\\u7fbd\\u5148\\u7372\\u3063\\u3066\\u304d\\u305f\\u308f\\u3051\\u3058\\u3083\\u306a\\u3044\\u3093\\u3060\\u304b\\u3089\\uff01',\n",
       " u'RT @Alchemist_DO: https://t.co/S4TEWhYUjt\\n\\uc640 \\uc774\\uc5b4\\uc9d1\\ub2c8\\ub2e4.\\n-\\n\"\\uc774\\uc81c \\ubc18\\ud56d\\uc774 \\uc880 \\uc0ac\\uadf8\\ub77c\\ub4e4\\uc5c8\\ub124.\"\\n\"\\uadf8 \\uc0ac\\ub78c\\uc774 \\ub2f9\\uc2e0\\uc744 \\ucc3e\\uc544\\ub0b4\\uba74 \\uc8fd\\uc77c \\uac70\\uc608\\uc694.\"\\n\"\\uc0c1\\uad00 \\uc5c6\\uc5b4, \\uc774\\ubbf8 \\ubc84\\ub9b0 \\ubaa9\\uc228.\"\\n\\n@vampire_BH_bot https:\\u2026',\n",
       " u'@pine_ayase_bot \\u884c\\u3063\\u3066\\u304d\\u307e\\u30595\\uff0a\\xa5',\n",
       " u'\\u3053\\u308c\\u306f\\u2026',\n",
       " u'@JinUzuki_bot \\u307e\\u3068\\u3082\\u306b\\u6b7b\\u306d\\u308b\\u3068\\u601d\\u3046\\u306a\\u3088\\u3001\\u30a6\\u30c5\\u30ad!!',\n",
       " u'RT @marketersp: 8 Social Media Tips to Increase Customer Loyalty https://t.co/o7w9oMvuel',\n",
       " u'@MisonoSenri_bot \\u3046\\u30fc\\u3093\\u3068\\u3001\\u4f55\\u304b\\u8a00\\u3063\\u305f\\u304b\\u306a\\uff1f',\n",
       " u'@ametan2013_bot \\u3084\\u3081\\u3066\\u3055\\u3057\\u3042\\u3052\\u308d',\n",
       " u'@Liu_Feilong_Bot \\u3053\\u306e\\u30aa\\u30ec\\u306b\\u624b\\u306b\\u5165\\u308c\\u3089\\u308c\\u306a\\u3044\\u3082\\u306e\\u306f\\u4f55\\u3082\\u306a\\u3044',\n",
       " u'\\u3044\\u3064\\u307e\\u3067\\u98df\\u3079\\u3066\\u3093\\u306e\\u3063(\\u30c6\\u30e9\\u65e9\\u53e3)',\n",
       " u'\\u3010\\u99c5\\u7d39\\u4ecb\\u3011\\u65b0\\u5e84\\u30fb\\u30fb\\u30fb\\u5c71\\u5f62\\u7dda\\u306f\\u3053\\u3053\\u304c\\u7d42\\u7740&amp;\\u8d77\\u70b9\\u99c5\\u3002\\u79cb\\u7530\\u65b9\\u9762\\u306e\\u5965\\u7fbd\\u672c\\u7dda\\u306f\\u540c\\u4e00\\u30db\\u30fc\\u30e0\\u3067\\u4e57\\u308a\\u63db\\u3048\\u3067\\u304d\\u308b\\u3088\\uff01\\u9014\\u4e2d\\u3067\\u9678\\u7fbd\\u6771\\u7dda\\u3068\\u4e26\\u8d70\\u30d0\\u30c8\\u30eb\\u3092\\u3057\\u3061\\u3083\\u3046w',\n",
       " u'@benymd_bot']"
      ]
     },
     "execution_count": 124,
     "metadata": {},
     "output_type": "execute_result"
    }
   ],
   "source": [
    "[t.text for t in tweets]"
   ]
  },
  {
   "cell_type": "code",
   "execution_count": 157,
   "metadata": {
    "collapsed": false
   },
   "outputs": [],
   "source": [
    "import pandas.io.sql as psql\n",
    "from dateutil.parser import parse\n",
    "\n",
    "sql = \"\"\"\n",
    "SELECT created_at\n",
    "from tweets\n",
    "\"\"\"\n",
    "df = psql.read_sql(sql,smw_listener.db._TweetDatastore__conn)"
   ]
  },
  {
   "cell_type": "code",
   "execution_count": 13,
   "metadata": {
    "collapsed": false
   },
   "outputs": [],
   "source": [
    "tweets = smw_listener._api_client.GetUserTimeline(screen_name='SMWNYC', count= 200)"
   ]
  },
  {
   "cell_type": "code",
   "execution_count": 16,
   "metadata": {
    "collapsed": false
   },
   "outputs": [],
   "source": [
    "import pandas as pd\n",
    "from dateutil.parser import parse\n",
    "df = pd.DataFrame([t.AsDict() for t in tweets])"
   ]
  },
  {
   "cell_type": "code",
   "execution_count": 27,
   "metadata": {
    "collapsed": false
   },
   "outputs": [
    {
     "data": {
      "text/plain": [
       "{0: 0.072916666666666671,\n",
       " 1: 0.072916666666666671,\n",
       " 2: 0.058333333333333334,\n",
       " 3: 0.014583333333333334,\n",
       " 4: 0.014583333333333334,\n",
       " 12: 0.087500000000000008,\n",
       " 13: 0.072916666666666671,\n",
       " 14: 0.17500000000000002,\n",
       " 15: 0.20416666666666669,\n",
       " 16: 0.27708333333333335,\n",
       " 17: 0.3354166666666667,\n",
       " 18: 0.39375000000000004,\n",
       " 19: 0.3208333333333333,\n",
       " 20: 0.40833333333333338,\n",
       " 21: 0.16041666666666665,\n",
       " 22: 0.14583333333333334,\n",
       " 23: 0.10208333333333335}"
      ]
     },
     "execution_count": 27,
     "metadata": {},
     "output_type": "execute_result"
    }
   ],
   "source": [
    "df['hour'] = df.created_at.apply(lambda t: parse(t).hour)\n",
    "hour_counts = df.groupby('hour').count().created_at\n",
    "\n",
    "dict(175 * ((hour_counts.apply(float) / hour_counts.sum()) / 60))"
   ]
  },
  {
   "cell_type": "code",
   "execution_count": 163,
   "metadata": {
    "collapsed": false
   },
   "outputs": [
    {
     "data": {
      "text/plain": [
       "5101"
      ]
     },
     "execution_count": 163,
     "metadata": {},
     "output_type": "execute_result"
    }
   ],
   "source": [
    "len(smw_listener.get_recent_text(50))"
   ]
  },
  {
   "cell_type": "code",
   "execution_count": 6,
   "metadata": {
    "collapsed": false
   },
   "outputs": [],
   "source": [
    "tweet = kanye.tweet('xxlkdxlxxlxxx')"
   ]
  },
  {
   "cell_type": "code",
   "execution_count": 7,
   "metadata": {
    "collapsed": false
   },
   "outputs": [],
   "source": [
    "kanye.db.annotate(tweet,\"do not reply\")"
   ]
  },
  {
   "cell_type": "code",
   "execution_count": 11,
   "metadata": {
    "collapsed": false
   },
   "outputs": [
    {
     "data": {
      "text/plain": [
       "False"
      ]
     },
     "execution_count": 11,
     "metadata": {},
     "output_type": "execute_result"
    }
   ],
   "source": [
    "kanye.should_reply(tweet)"
   ]
  },
  {
   "cell_type": "code",
   "execution_count": null,
   "metadata": {
    "collapsed": true
   },
   "outputs": [],
   "source": [
    "kanye._api_client.CreateFavorite(status=)"
   ]
  }
 ],
 "metadata": {
  "kernelspec": {
   "display_name": "Python 2",
   "language": "python",
   "name": "python2"
  },
  "language_info": {
   "codemirror_mode": {
    "name": "ipython",
    "version": 2
   },
   "file_extension": ".py",
   "mimetype": "text/x-python",
   "name": "python",
   "nbconvert_exporter": "python",
   "pygments_lexer": "ipython2",
   "version": "2.7.9"
  }
 },
 "nbformat": 4,
 "nbformat_minor": 0
}
